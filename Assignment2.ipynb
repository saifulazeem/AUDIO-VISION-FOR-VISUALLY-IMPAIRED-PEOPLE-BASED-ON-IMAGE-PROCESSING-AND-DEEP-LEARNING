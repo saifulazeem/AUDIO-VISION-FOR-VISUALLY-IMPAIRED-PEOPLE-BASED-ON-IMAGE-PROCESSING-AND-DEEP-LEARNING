{
 "cells": [
  {
   "cell_type": "raw",
   "metadata": {},
   "source": [
    "Question#1"
   ]
  },
  {
   "cell_type": "code",
   "execution_count": 21,
   "metadata": {},
   "outputs": [
    {
     "name": "stdout",
     "output_type": "stream",
     "text": [
      "Please Enter String: w\n",
      "String Length=  1\n",
      "Empty String\n"
     ]
    }
   ],
   "source": [
    "x=input(\"Please Enter String: \")\n",
    "str_len=len(x)\n",
    "print(\"String Length= \",len(x))\n",
    "\n",
    "if len(x)>=2:\n",
    "    #print(x[0]+x[1])\n",
    "    rslt1=x[0]+x[1]\n",
    "    #print(x[str_len-2]+x[str_len-1])\n",
    "    rslt2=x[str_len-2]+x[str_len-1]\n",
    "    \n",
    "    print(\"Final Output: \",rslt1+rslt2)\n",
    "else:\n",
    "    print(\"Final Output: Empty String\")"
   ]
  },
  {
   "cell_type": "raw",
   "metadata": {},
   "source": [
    "Question#2"
   ]
  },
  {
   "cell_type": "code",
   "execution_count": 51,
   "metadata": {},
   "outputs": [
    {
     "name": "stdout",
     "output_type": "stream",
     "text": [
      "Enter List of Worlds seperated by coma ',' : saifulazeem,hirakanwel,zilehumafaooq,fyp,ai\n",
      "saifulazeem,hirakanwel,zilehumafaooq,fyp,ai\n",
      "['saifulazeem', 'hirakanwel', 'zilehumafaooq', 'fyp', 'ai']\n",
      "List Lenght:  5\n",
      "Longets Word In list :  ['zilehumafaooq']\n"
     ]
    }
   ],
   "source": [
    "y=input(\"Enter List of Worlds seperated by coma ',' : \")\n",
    "print(y)\n",
    "\n",
    "def count_len(m_list):\n",
    "    words_list=[]\n",
    "    words_list = m_list.split(\",\")\n",
    "    print(words_list)\n",
    "\n",
    "    list_len=len(words_list)\n",
    "\n",
    "    print(\"List Lenght: \",list_len)\n",
    "    \n",
    "    \n",
    "    \n",
    "    i=0\n",
    "    j=0\n",
    "    new_list=[]\n",
    "    final_list=[]\n",
    "    while i<list_len:\n",
    "        #print(\"Words Lenght: \",len(words_list[i]))\n",
    "        \n",
    "       \n",
    "        new_list.append(len(words_list[i]))\n",
    "        \n",
    "        i +=1    \n",
    "    \n",
    "    \n",
    "    while j<list_len:\n",
    "        if len(words_list[j])>=max(new_list):\n",
    "            final_list.append(words_list[j])\n",
    "        j += 1\n",
    "    #print(\"longest_words \",final_list)\n",
    "    \n",
    "    return final_list\n",
    "    \n",
    "obj=count_len(y)\n",
    "\n",
    "print(\"Longets Word In list : \", obj)"
   ]
  },
  {
   "cell_type": "raw",
   "metadata": {},
   "source": [
    "Question#2 Assignment1"
   ]
  },
  {
   "cell_type": "code",
   "execution_count": 55,
   "metadata": {},
   "outputs": [
    {
     "name": "stdout",
     "output_type": "stream",
     "text": [
      "Enter number : 8\n",
      "OUTPUT\n",
      "40320\n"
     ]
    }
   ],
   "source": [
    "z=int(input(\"Enter number : \"))\n",
    "i=z-1\n",
    "\n",
    "while i>=1:\n",
    "    \n",
    "    rslt=z*i\n",
    "    z=rslt\n",
    "    i -=1\n",
    "print(\"OUTPUT\")\n",
    "print(z)"
   ]
  },
  {
   "cell_type": "code",
   "execution_count": null,
   "metadata": {},
   "outputs": [],
   "source": []
  }
 ],
 "metadata": {
  "kernelspec": {
   "display_name": "Python 3",
   "language": "python",
   "name": "python3"
  },
  "language_info": {
   "codemirror_mode": {
    "name": "ipython",
    "version": 3
   },
   "file_extension": ".py",
   "mimetype": "text/x-python",
   "name": "python",
   "nbconvert_exporter": "python",
   "pygments_lexer": "ipython3",
   "version": "3.7.6"
  }
 },
 "nbformat": 4,
 "nbformat_minor": 4
}
