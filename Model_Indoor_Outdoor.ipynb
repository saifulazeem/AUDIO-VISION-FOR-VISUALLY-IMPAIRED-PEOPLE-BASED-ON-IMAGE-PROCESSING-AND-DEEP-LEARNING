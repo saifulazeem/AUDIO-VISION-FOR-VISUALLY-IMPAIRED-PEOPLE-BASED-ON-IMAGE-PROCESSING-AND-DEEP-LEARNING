{
 "cells": [
  {
   "cell_type": "code",
   "execution_count": 5,
   "metadata": {},
   "outputs": [
    {
     "name": "stdout",
     "output_type": "stream",
     "text": [
      "Train on 720 samples, validate on 80 samples\n",
      "Epoch 1/10\n",
      "720/720 [==============================] - 3s 4ms/sample - loss: 0.6688 - acc: 0.5778 - val_loss: 0.5691 - val_acc: 0.7125\n",
      "Epoch 2/10\n",
      "720/720 [==============================] - 2s 3ms/sample - loss: 0.5912 - acc: 0.6986 - val_loss: 0.5262 - val_acc: 0.7250\n",
      "Epoch 3/10\n",
      "720/720 [==============================] - 2s 3ms/sample - loss: 0.5672 - acc: 0.7139 - val_loss: 0.5239 - val_acc: 0.7625\n",
      "Epoch 4/10\n",
      "720/720 [==============================] - 2s 3ms/sample - loss: 0.5096 - acc: 0.7653 - val_loss: 0.5321 - val_acc: 0.7375\n",
      "Epoch 5/10\n",
      "720/720 [==============================] - 2s 3ms/sample - loss: 0.4803 - acc: 0.7903 - val_loss: 0.4550 - val_acc: 0.7750\n",
      "Epoch 6/10\n",
      "720/720 [==============================] - 2s 3ms/sample - loss: 0.4105 - acc: 0.8139 - val_loss: 0.4917 - val_acc: 0.7375\n",
      "Epoch 7/10\n",
      "720/720 [==============================] - 3s 4ms/sample - loss: 0.3516 - acc: 0.8542 - val_loss: 0.4897 - val_acc: 0.7625\n",
      "Epoch 8/10\n",
      "720/720 [==============================] - 3s 4ms/sample - loss: 0.3117 - acc: 0.8750 - val_loss: 0.4062 - val_acc: 0.8000\n",
      "Epoch 9/10\n",
      "720/720 [==============================] - 3s 4ms/sample - loss: 0.2777 - acc: 0.8917 - val_loss: 0.5727 - val_acc: 0.7625\n",
      "Epoch 10/10\n",
      "720/720 [==============================] - 3s 5ms/sample - loss: 0.2059 - acc: 0.9361 - val_loss: 0.4215 - val_acc: 0.8250\n"
     ]
    }
   ],
   "source": [
    "import tensorflow as tf\n",
    "from tensorflow.keras.models import Sequential\n",
    "from tensorflow.keras.layers import Dense, Dropout, Activation, Flatten, Conv2D, MaxPooling2D\n",
    "#from keras.layers.convolutional import MaxPooling2D\n",
    "import pickle\n",
    "\n",
    "x = pickle.load(open(\"x.pickle\", \"rb\"))\n",
    "y = pickle.load(open(\"y.pickle\", \"rb\"))\n",
    "\n",
    "x= x/255.0\n",
    "\n",
    "\n",
    "\n",
    "model = Sequential()\n",
    "model.add(Conv2D(32, (3,3), input_shape = x.shape[1:]))\n",
    "model.add(Activation(\"relu\"))\n",
    "model.add(MaxPooling2D(pool_size = (2,2)))\n",
    "\n",
    "model.add(Conv2D(64, (3,3)))\n",
    "model.add(Activation(\"relu\"))\n",
    "model.add(MaxPooling2D(pool_size = (2,2)))\n",
    "\n",
    "model.add(Flatten())\n",
    "model.add(Dense(64))\n",
    "model.add(Activation(\"relu\"))\n",
    "\n",
    "model.add(Dense(32))\n",
    "model.add(Activation(\"relu\"))\n",
    "\n",
    "model.add(Dense(1))\n",
    "model.add(Activation('sigmoid'))\n",
    "\n",
    "model.compile(loss=\"binary_crossentropy\",\n",
    "             optimizer=\"adam\",\n",
    "             metrics=['accuracy'])\n",
    "\n",
    "history = model.fit(x, y, batch_size=32, epochs=10, validation_split=0.1)\n"
   ]
  },
  {
   "cell_type": "code",
   "execution_count": 6,
   "metadata": {},
   "outputs": [
    {
     "name": "stdout",
     "output_type": "stream",
     "text": [
      "Train on 720 samples, validate on 80 samples\n",
      "Epoch 1/10\n",
      "720/720 [==============================] - 2s 3ms/sample - loss: 0.1443 - acc: 0.9569 - val_loss: 0.4604 - val_acc: 0.8000\n",
      "Epoch 2/10\n",
      "720/720 [==============================] - 2s 3ms/sample - loss: 0.1369 - acc: 0.9611 - val_loss: 1.1084 - val_acc: 0.6500\n",
      "Epoch 3/10\n",
      "720/720 [==============================] - 3s 4ms/sample - loss: 0.1953 - acc: 0.9292 - val_loss: 0.5408 - val_acc: 0.7875\n",
      "Epoch 4/10\n",
      "720/720 [==============================] - 3s 4ms/sample - loss: 0.0922 - acc: 0.9708 - val_loss: 0.4807 - val_acc: 0.8375\n",
      "Epoch 5/10\n",
      "720/720 [==============================] - 3s 4ms/sample - loss: 0.0542 - acc: 0.9889 - val_loss: 0.5689 - val_acc: 0.7875\n",
      "Epoch 6/10\n",
      "720/720 [==============================] - 3s 4ms/sample - loss: 0.0584 - acc: 0.9833 - val_loss: 0.6999 - val_acc: 0.7625\n",
      "Epoch 7/10\n",
      "720/720 [==============================] - 3s 4ms/sample - loss: 0.0346 - acc: 0.9931 - val_loss: 0.6634 - val_acc: 0.8250\n",
      "Epoch 8/10\n",
      "720/720 [==============================] - 3s 4ms/sample - loss: 0.0249 - acc: 0.9958 - val_loss: 0.6319 - val_acc: 0.8375\n",
      "Epoch 9/10\n",
      "720/720 [==============================] - 3s 4ms/sample - loss: 0.0150 - acc: 1.0000 - val_loss: 0.7568 - val_acc: 0.7750\n",
      "Epoch 10/10\n",
      "720/720 [==============================] - 3s 4ms/sample - loss: 0.0094 - acc: 1.0000 - val_loss: 0.6572 - val_acc: 0.8375\n"
     ]
    }
   ],
   "source": [
    "history2 = model.fit(x, y, batch_size=32, epochs=10, validation_split=0.1)"
   ]
  },
  {
   "cell_type": "code",
   "execution_count": 7,
   "metadata": {},
   "outputs": [],
   "source": [
    "model.save('Indoor_outdoor_classifier.model')"
   ]
  },
  {
   "cell_type": "code",
   "execution_count": 5,
   "metadata": {},
   "outputs": [
    {
     "name": "stderr",
     "output_type": "stream",
     "text": [
      "W1128 12:15:15.819388  2036 deprecation.py:506] From C:\\Users\\Muhammad Saif\\Anaconda3\\envs\\tensorflow\\lib\\site-packages\\tensorflow\\python\\ops\\init_ops.py:97: calling GlorotUniform.__init__ (from tensorflow.python.ops.init_ops) with dtype is deprecated and will be removed in a future version.\n",
      "Instructions for updating:\n",
      "Call initializer instance with the dtype argument instead of passing it to the constructor\n",
      "W1128 12:15:15.823435  2036 deprecation.py:506] From C:\\Users\\Muhammad Saif\\Anaconda3\\envs\\tensorflow\\lib\\site-packages\\tensorflow\\python\\ops\\init_ops.py:97: calling Zeros.__init__ (from tensorflow.python.ops.init_ops) with dtype is deprecated and will be removed in a future version.\n",
      "Instructions for updating:\n",
      "Call initializer instance with the dtype argument instead of passing it to the constructor\n"
     ]
    }
   ],
   "source": [
    "#new_model = tf.keras.models.load_model('Indoor_outdoor_classifier.model')"
   ]
  },
  {
   "cell_type": "code",
   "execution_count": null,
   "metadata": {},
   "outputs": [],
   "source": [
    "\n"
   ]
  },
  {
   "cell_type": "code",
   "execution_count": 1,
   "metadata": {},
   "outputs": [],
   "source": [
    "#prediction = new_model.predict()"
   ]
  },
  {
   "cell_type": "code",
   "execution_count": null,
   "metadata": {},
   "outputs": [],
   "source": []
  }
 ],
 "metadata": {
  "kernelspec": {
   "display_name": "Python 3",
   "language": "python",
   "name": "python3"
  },
  "language_info": {
   "codemirror_mode": {
    "name": "ipython",
    "version": 3
   },
   "file_extension": ".py",
   "mimetype": "text/x-python",
   "name": "python",
   "nbconvert_exporter": "python",
   "pygments_lexer": "ipython3",
   "version": "3.7.4"
  }
 },
 "nbformat": 4,
 "nbformat_minor": 2
}
