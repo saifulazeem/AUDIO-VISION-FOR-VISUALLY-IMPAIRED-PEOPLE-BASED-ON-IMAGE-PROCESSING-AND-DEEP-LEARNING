{
 "cells": [
  {
   "cell_type": "code",
   "execution_count": 6,
   "metadata": {},
   "outputs": [
    {
     "name": "stdout",
     "output_type": "stream",
     "text": [
      "Train on 1080 samples, validate on 120 samples\n",
      "Epoch 1/10\n",
      "1080/1080 [==============================] - 101s 94ms/sample - loss: 0.2406 - accuracy: 0.9009 - val_loss: 0.0546 - val_accuracy: 0.9750\n",
      "Epoch 2/10\n",
      "1080/1080 [==============================] - 105s 97ms/sample - loss: 0.0353 - accuracy: 0.9907 - val_loss: 0.0902 - val_accuracy: 0.9667\n",
      "Epoch 3/10\n",
      "1080/1080 [==============================] - 88s 81ms/sample - loss: 0.0299 - accuracy: 0.9889 - val_loss: 0.0613 - val_accuracy: 0.9667\n",
      "Epoch 4/10\n",
      "1080/1080 [==============================] - 96s 89ms/sample - loss: 0.0113 - accuracy: 0.9963 - val_loss: 0.0363 - val_accuracy: 0.9833\n",
      "Epoch 5/10\n",
      "1080/1080 [==============================] - 98s 91ms/sample - loss: 0.0071 - accuracy: 0.9981 - val_loss: 0.0460 - val_accuracy: 0.9833\n",
      "Epoch 6/10\n",
      "1080/1080 [==============================] - 99s 91ms/sample - loss: 0.0033 - accuracy: 0.9991 - val_loss: 0.0282 - val_accuracy: 0.9833\n",
      "Epoch 7/10\n",
      "1080/1080 [==============================] - 98s 91ms/sample - loss: 2.8539e-04 - accuracy: 1.0000 - val_loss: 0.0350 - val_accuracy: 0.9833\n",
      "Epoch 8/10\n",
      "1080/1080 [==============================] - 100s 92ms/sample - loss: 1.2189e-04 - accuracy: 1.0000 - val_loss: 0.0301 - val_accuracy: 0.9833\n",
      "Epoch 9/10\n",
      "1080/1080 [==============================] - 99s 92ms/sample - loss: 7.9010e-05 - accuracy: 1.0000 - val_loss: 0.0445 - val_accuracy: 0.9833\n",
      "Epoch 10/10\n",
      "1080/1080 [==============================] - 98s 91ms/sample - loss: 5.3565e-05 - accuracy: 1.0000 - val_loss: 0.0365 - val_accuracy: 0.9833\n"
     ]
    }
   ],
   "source": [
    "import tensorflow as tf\n",
    "from tensorflow.keras.models import Sequential\n",
    "from tensorflow.keras.layers import Dense, Dropout, Activation, Flatten, Conv2D, MaxPooling2D\n",
    "#from keras.layers.convolutional import MaxPooling2D\n",
    "import pickle\n",
    "import numpy as np\n",
    "\n",
    "x = pickle.load(open(\"x_input.pickle\", \"rb\"))\n",
    "y = pickle.load(open(\"y_output.pickle\", \"rb\"))\n",
    "\n",
    "x = x/255.0\n",
    "\n",
    "\n",
    "\n",
    "model = Sequential()\n",
    "model.add(Conv2D(32, (3,3), input_shape = x.shape[1:]))\n",
    "model.add(Activation(\"relu\"))\n",
    "model.add(MaxPooling2D(pool_size = (2,2)))\n",
    "\n",
    "model.add(Conv2D(64, (3,3)))\n",
    "model.add(Activation(\"relu\"))\n",
    "model.add(MaxPooling2D(pool_size = (2,2)))\n",
    "\n",
    "model.add(Flatten())\n",
    "model.add(Dense(64))\n",
    "model.add(Activation(\"relu\"))\n",
    "\n",
    "model.add(Dense(32))\n",
    "model.add(Activation(\"relu\"))\n",
    "\n",
    "model.add(Dense(1))\n",
    "model.add(Activation('sigmoid'))\n",
    "\n",
    "model.compile(loss=\"binary_crossentropy\",\n",
    "             optimizer=\"adam\",\n",
    "             metrics=['accuracy'])\n",
    "\n",
    "history = model.fit(x=np.array(x), y=np.array(y), batch_size=32, epochs=10, validation_split=0.1)"
   ]
  },
  {
   "cell_type": "code",
   "execution_count": 7,
   "metadata": {},
   "outputs": [
    {
     "name": "stderr",
     "output_type": "stream",
     "text": [
      "WARNING: Logging before flag parsing goes to stderr.\n",
      "W1212 19:12:07.754446 10632 deprecation.py:506] From C:\\Users\\Muhammad Saif\\Anaconda3\\envs\\tensorflow\\lib\\site-packages\\tensorflow_core\\python\\ops\\resource_variable_ops.py:1786: calling BaseResourceVariable.__init__ (from tensorflow.python.ops.resource_variable_ops) with constraint is deprecated and will be removed in a future version.\n",
      "Instructions for updating:\n",
      "If using Keras pass *_constraint arguments to layers.\n"
     ]
    }
   ],
   "source": [
    "model.save('day_night_classifier.model')"
   ]
  },
  {
   "cell_type": "code",
   "execution_count": null,
   "metadata": {},
   "outputs": [],
   "source": []
  }
 ],
 "metadata": {
  "kernelspec": {
   "display_name": "Python 3",
   "language": "python",
   "name": "python3"
  },
  "language_info": {
   "codemirror_mode": {
    "name": "ipython",
    "version": 3
   },
   "file_extension": ".py",
   "mimetype": "text/x-python",
   "name": "python",
   "nbconvert_exporter": "python",
   "pygments_lexer": "ipython3",
   "version": "3.7.4"
  }
 },
 "nbformat": 4,
 "nbformat_minor": 2
}
