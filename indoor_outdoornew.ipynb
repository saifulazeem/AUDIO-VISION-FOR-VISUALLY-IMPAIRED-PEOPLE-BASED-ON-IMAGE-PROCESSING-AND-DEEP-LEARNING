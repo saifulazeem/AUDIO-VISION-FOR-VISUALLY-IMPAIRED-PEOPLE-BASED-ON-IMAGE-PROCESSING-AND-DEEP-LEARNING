{
 "cells": [
  {
   "cell_type": "code",
   "execution_count": 1,
   "metadata": {},
   "outputs": [
    {
     "data": {
      "text/plain": [
       "<Figure size 640x480 with 1 Axes>"
      ]
     },
     "metadata": {},
     "output_type": "display_data"
    }
   ],
   "source": [
    "import numpy as np\n",
    "import matplotlib.pyplot as plt\n",
    "import os\n",
    "import cv2 \n",
    "DATADIR = \"C:/Users/Zilehuma/Desktop/FYP/datasetIO\"\n",
    "CATEGORIES = [\"indoor\",\"outdoor\"]\n",
    "for category in CATEGORIES:\n",
    "    path = os.path.join(DATADIR,category)\n",
    "    for img in os.listdir(path):\n",
    "        img_array = cv2.imread(os.path.join(path,img),cv2.IMREAD_GRAYSCALE)\n",
    "        plt.imshow(img_array, cmap=\"gray\")\n",
    "        plt.show()\n",
    "        break\n",
    "    break\n"
   ]
  },
  {
   "cell_type": "code",
   "execution_count": 2,
   "metadata": {},
   "outputs": [
    {
     "name": "stdout",
     "output_type": "stream",
     "text": [
      "(768, 1024)\n"
     ]
    }
   ],
   "source": [
    "print(img_array.shape)"
   ]
  },
  {
   "cell_type": "code",
   "execution_count": 3,
   "metadata": {},
   "outputs": [
    {
     "data": {
      "image/png": "[encoded data removed]",
      "text/plain": [
       "<Figure size 432x288 with 1 Axes>"
      ]
     },
     "metadata": {
      "needs_background": "light"
     },
     "output_type": "display_data"
    }
   ],
   "source": [
    "IMG_SIZE = 50\n",
    "new_array = cv2.resize(img_array, (IMG_SIZE,IMG_SIZE))\n",
    "plt.imshow(new_array, cmap=\"gray\")\n",
    "plt.show()\n"
   ]
  },
  {
   "cell_type": "code",
   "execution_count": 4,
   "metadata": {},
   "outputs": [],
   "source": [
    "training_data=[]\n",
    "\n",
    "def create_training_dataset():\n",
    "    for category in CATEGORIES:\n",
    "        path = os.path.join(DATADIR,category)\n",
    "        class_num = CATEGORIES.index(category)\n",
    "        for img in os.listdir(path):\n",
    "            try:\n",
    "                img_array = cv2.imread(os.path.join(path,img),cv2.IMREAD_GRAYSCALE)\n",
    "                new_array = cv2.resize(img_array, (IMG_SIZE,IMG_SIZE))\n",
    "                training_data.append([new_array, class_num])\n",
    "            except Exception as e:\n",
    "                pass\n",
    "\n",
    "create_training_dataset()\n"
   ]
  },
  {
   "cell_type": "code",
   "execution_count": 7,
   "metadata": {},
   "outputs": [
    {
     "name": "stdout",
     "output_type": "stream",
     "text": [
      "4907\n"
     ]
    }
   ],
   "source": [
    "print(len(training_data))"
   ]
  },
  {
   "cell_type": "code",
   "execution_count": 8,
   "metadata": {},
   "outputs": [],
   "source": [
    "import random\n",
    "random.shuffle(training_data)"
   ]
  },
  {
   "cell_type": "code",
   "execution_count": 9,
   "metadata": {},
   "outputs": [
    {
     "name": "stdout",
     "output_type": "stream",
     "text": [
      "1\n",
      "1\n",
      "0\n",
      "0\n",
      "1\n",
      "1\n",
      "1\n",
      "1\n",
      "1\n",
      "0\n"
     ]
    }
   ],
   "source": [
    "for sample in training_data[:10]:\n",
    "    print(sample[1])"
   ]
  },
  {
   "cell_type": "code",
   "execution_count": 10,
   "metadata": {},
   "outputs": [],
   "source": [
    "X = []\n",
    "y = []"
   ]
  },
  {
   "cell_type": "code",
   "execution_count": 11,
   "metadata": {},
   "outputs": [],
   "source": [
    "for features, label in training_data:\n",
    "    X.append(features)\n",
    "    y.append(label)\n",
    "X = np.array(X).reshape(-1, IMG_SIZE, IMG_SIZE, 1)"
   ]
  },
  {
   "cell_type": "code",
   "execution_count": 12,
   "metadata": {},
   "outputs": [],
   "source": [
    "import pickle\n",
    "\n",
    "pickle_out = open(\"X.pickle\", \"wb\")\n",
    "pickle.dump(X, pickle_out)\n",
    "pickle_out.close()\n",
    "\n",
    "pickle_out = open(\"y.pickle\", \"wb\")\n",
    "pickle.dump(y, pickle_out)\n",
    "pickle_out.close()"
   ]
  },
  {
   "cell_type": "code",
   "execution_count": 13,
   "metadata": {},
   "outputs": [],
   "source": [
    "pickle_in = open(\"X.pickle\", \"rb\")\n",
    "X = pickle.load(pickle_in)"
   ]
  },
  {
   "cell_type": "code",
   "execution_count": 14,
   "metadata": {},
   "outputs": [
    {
     "data": {
      "text/plain": [
       "array([[[ 28],\n",
       "        [ 29],\n",
       "        [ 28],\n",
       "        ...,\n",
       "        [ 31],\n",
       "        [ 28],\n",
       "        [ 30]],\n",
       "\n",
       "       [[ 31],\n",
       "        [ 32],\n",
       "        [ 32],\n",
       "        ...,\n",
       "        [ 33],\n",
       "        [ 32],\n",
       "        [ 34]],\n",
       "\n",
       "       [[ 30],\n",
       "        [ 32],\n",
       "        [ 29],\n",
       "        ...,\n",
       "        [ 32],\n",
       "        [ 33],\n",
       "        [ 31]],\n",
       "\n",
       "       ...,\n",
       "\n",
       "       [[ 39],\n",
       "        [ 43],\n",
       "        [ 42],\n",
       "        ...,\n",
       "        [145],\n",
       "        [ 72],\n",
       "        [ 62]],\n",
       "\n",
       "       [[ 38],\n",
       "        [ 40],\n",
       "        [ 41],\n",
       "        ...,\n",
       "        [154],\n",
       "        [ 43],\n",
       "        [ 42]],\n",
       "\n",
       "       [[ 39],\n",
       "        [ 37],\n",
       "        [ 36],\n",
       "        ...,\n",
       "        [ 57],\n",
       "        [ 53],\n",
       "        [ 55]]], dtype=uint8)"
      ]
     },
     "execution_count": 14,
     "metadata": {},
     "output_type": "execute_result"
    }
   ],
   "source": [
    "X[1]"
   ]
  },
  {
   "cell_type": "code",
   "execution_count": 15,
   "metadata": {},
   "outputs": [
    {
     "name": "stdout",
     "output_type": "stream",
     "text": [
      "WARNING:tensorflow:From C:\\Users\\Zilehuma\\Anaconda3\\lib\\site-packages\\tensorflow\\python\\ops\\resource_variable_ops.py:435: colocate_with (from tensorflow.python.framework.ops) is deprecated and will be removed in a future version.\n",
      "Instructions for updating:\n",
      "Colocations handled automatically by placer.\n",
      "Train on 4416 samples, validate on 491 samples\n",
      "WARNING:tensorflow:From C:\\Users\\Zilehuma\\Anaconda3\\lib\\site-packages\\tensorflow\\python\\ops\\math_ops.py:3066: to_int32 (from tensorflow.python.ops.math_ops) is deprecated and will be removed in a future version.\n",
      "Instructions for updating:\n",
      "Use tf.cast instead.\n",
      "Epoch 1/10\n",
      "4416/4416 [==============================] - 21s 5ms/sample - loss: 0.3671 - acc: 0.8270 - val_loss: 0.2895 - val_acc: 0.8737\n",
      "Epoch 2/10\n",
      "4416/4416 [==============================] - 17s 4ms/sample - loss: 0.2022 - acc: 0.9271 - val_loss: 0.2020 - val_acc: 0.9348\n",
      "Epoch 3/10\n",
      "4416/4416 [==============================] - 17s 4ms/sample - loss: 0.1521 - acc: 0.9457 - val_loss: 0.1969 - val_acc: 0.9328\n",
      "Epoch 4/10\n",
      "4416/4416 [==============================] - 17s 4ms/sample - loss: 0.1250 - acc: 0.9549 - val_loss: 0.1826 - val_acc: 0.9328\n",
      "Epoch 5/10\n",
      "4416/4416 [==============================] - 18s 4ms/sample - loss: 0.1018 - acc: 0.9640 - val_loss: 0.1662 - val_acc: 0.9348\n",
      "Epoch 6/10\n",
      "4416/4416 [==============================] - 17s 4ms/sample - loss: 0.0865 - acc: 0.9701 - val_loss: 0.1757 - val_acc: 0.9369\n",
      "Epoch 7/10\n",
      "4416/4416 [==============================] - 17s 4ms/sample - loss: 0.0583 - acc: 0.9792 - val_loss: 0.1858 - val_acc: 0.9308\n",
      "Epoch 8/10\n",
      "4416/4416 [==============================] - 18s 4ms/sample - loss: 0.0340 - acc: 0.9898 - val_loss: 0.2290 - val_acc: 0.9348\n",
      "Epoch 9/10\n",
      "4416/4416 [==============================] - 17s 4ms/sample - loss: 0.0214 - acc: 0.9934 - val_loss: 0.2518 - val_acc: 0.9267\n",
      "Epoch 10/10\n",
      "4416/4416 [==============================] - 17s 4ms/sample - loss: 0.0264 - acc: 0.9909 - val_loss: 0.2522 - val_acc: 0.9308\n"
     ]
    }
   ],
   "source": [
    "import tensorflow as tf\n",
    "from tensorflow.keras.models import Sequential\n",
    "from tensorflow.keras.layers import Dense, Dropout, Activation, Flatten, Conv2D, MaxPooling2D\n",
    "#from keras.layers.convolutional import MaxPooling2D\n",
    "import pickle\n",
    "\n",
    "X = pickle.load(open(\"X.pickle\", \"rb\"))\n",
    "y = pickle.load(open(\"y.pickle\", \"rb\"))\n",
    "\n",
    "X= X/255.0\n",
    "model = Sequential()\n",
    "model.add(Conv2D(32, (3,3), input_shape = X.shape[1:]))\n",
    "model.add(Activation(\"relu\"))\n",
    "model.add(MaxPooling2D(pool_size = (2,2)))\n",
    "\n",
    "model.add(Conv2D(64, (3,3)))\n",
    "model.add(Activation(\"relu\"))\n",
    "model.add(MaxPooling2D(pool_size = (2,2)))\n",
    "\n",
    "model.add(Flatten())\n",
    "model.add(Dense(64))\n",
    "model.add(Activation(\"relu\"))\n",
    "\n",
    "model.add(Dense(32))\n",
    "model.add(Activation(\"relu\"))\n",
    "\n",
    "model.add(Dense(1))\n",
    "model.add(Activation('sigmoid'))\n",
    "\n",
    "model.compile(loss=\"binary_crossentropy\",\n",
    "             optimizer=\"adam\",\n",
    "             metrics=['accuracy'])\n",
    "\n",
    "\n",
    "history = model.fit(X, y, batch_size=32, epochs=10, validation_split=0.1)\n"
   ]
  },
  {
   "cell_type": "code",
   "execution_count": 16,
   "metadata": {},
   "outputs": [],
   "source": [
    "model.save('indoor_outdoornew_classifier.model')"
   ]
  },
  {
   "cell_type": "code",
   "execution_count": 17,
   "metadata": {},
   "outputs": [],
   "source": [
    "new_model = tf.keras.models.load_model('indoor_outdoornew_classifier.model')"
   ]
  },
  {
   "cell_type": "code",
   "execution_count": 1,
   "metadata": {},
   "outputs": [
    {
     "name": "stdout",
     "output_type": "stream",
     "text": [
      "WARNING:tensorflow:From C:\\Users\\Zilehuma\\Anaconda3\\lib\\site-packages\\tensorflow\\python\\ops\\resource_variable_ops.py:435: colocate_with (from tensorflow.python.framework.ops) is deprecated and will be removed in a future version.\n",
      "Instructions for updating:\n",
      "Colocations handled automatically by placer.\n",
      "WARNING:tensorflow:From C:\\Users\\Zilehuma\\Anaconda3\\lib\\site-packages\\tensorflow\\python\\ops\\math_ops.py:3066: to_int32 (from tensorflow.python.ops.math_ops) is deprecated and will be removed in a future version.\n",
      "Instructions for updating:\n",
      "Use tf.cast instead.\n",
      "[[1.]]\n",
      "outdoor\n",
      "[[0.]]\n",
      "indoor\n",
      "[[0.]]\n",
      "indoor\n",
      "[[1.]]\n",
      "outdoor\n",
      "[[0.]]\n",
      "indoor\n",
      "[[0.]]\n",
      "indoor\n",
      "[[1.]]\n",
      "outdoor\n",
      "[[0.]]\n",
      "indoor\n",
      "[[0.]]\n",
      "indoor\n",
      "[[1.]]\n",
      "outdoor\n",
      "[[0.]]\n",
      "indoor\n",
      "[[0.]]\n",
      "indoor\n"
     ]
    }
   ],
   "source": [
    "import tensorflow as tf\n",
    "import cv2\n",
    "\n",
    "CATEGORIES = [\"indoor\", \"outdoor\"]\n",
    "\n",
    "def prepare(filepath):\n",
    "    IMG_SIZE = 50\n",
    "    img_array = cv2.imread(filepath, cv2.IMREAD_GRAYSCALE)\n",
    "    new_array = cv2.resize(img_array, (IMG_SIZE, IMG_SIZE))\n",
    "    return new_array.reshape(-1, IMG_SIZE, IMG_SIZE, 1)\n",
    "#img = cv2.imread('C:\\test\\IMG_5013.jpg')\n",
    "#img = cv2.imread(img, cv2.IMREAD_GRAYSCALE)\n",
    "#img = cv2.resize(img, (50, 50))\n",
    "#img.reshape(-1, 50, 50, 1)\n",
    "\n",
    " \n",
    "\n",
    "model = tf.keras.models.load_model(\"indoor_outdoornew_classifier.model\")\n",
    "prediction = model.predict([prepare('C:/test/a (18).jpeg')])\n",
    "print(prediction)\n",
    "\n",
    "\n",
    "print(CATEGORIES[int(prediction[0][0])])\n",
    "\n",
    "prediction = model.predict([prepare('C:/test/a (19).jpeg')])\n",
    "print(prediction)\n",
    "\n",
    "\n",
    "print(CATEGORIES[int(prediction[0][0])])\n",
    "\n",
    "prediction = model.predict([prepare('C:/test/a (20).jpeg')])\n",
    "print(prediction)\n",
    "\n",
    "\n",
    "print(CATEGORIES[int(prediction[0][0])])\n",
    "prediction = model.predict([prepare('C:/test/a (21).jpeg')])\n",
    "print(prediction)\n",
    "\n",
    "\n",
    "print(CATEGORIES[int(prediction[0][0])])\n",
    "prediction = model.predict([prepare('C:/test/a (22).jpeg')])\n",
    "print(prediction)\n",
    "\n",
    "\n",
    "print(CATEGORIES[int(prediction[0][0])])\n",
    "prediction = model.predict([prepare('C:/test/a (23).jpeg')])\n",
    "print(prediction)\n",
    "\n",
    "\n",
    "print(CATEGORIES[int(prediction[0][0])])\n",
    "prediction = model.predict([prepare('C:/test/a (24).jpeg')])\n",
    "print(prediction)\n",
    "\n",
    "\n",
    "print(CATEGORIES[int(prediction[0][0])])\n",
    "prediction = model.predict([prepare('C:/test/a (25).jpeg')])\n",
    "print(prediction)\n",
    "\n",
    "\n",
    "print(CATEGORIES[int(prediction[0][0])])\n",
    "prediction = model.predict([prepare('C:/test/a (26).jpeg')])\n",
    "print(prediction)\n",
    "\n",
    "\n",
    "print(CATEGORIES[int(prediction[0][0])])\n",
    "prediction = model.predict([prepare('C:/test/a (27).jpeg')])\n",
    "print(prediction)\n",
    "\n",
    "\n",
    "print(CATEGORIES[int(prediction[0][0])])\n",
    "prediction = model.predict([prepare('C:/test/a.jpg')])\n",
    "print(prediction)\n",
    "\n",
    "\n",
    "print(CATEGORIES[int(prediction[0][0])])\n",
    "prediction = model.predict([prepare('C:/test/2 (1).jpeg')])\n",
    "print(prediction)\n",
    "\n",
    "\n",
    "print(CATEGORIES[int(prediction[0][0])])\n"
   ]
  },
  {
   "cell_type": "code",
   "execution_count": 4,
   "metadata": {},
   "outputs": [
    {
     "name": "stdout",
     "output_type": "stream",
     "text": [
      "outdoor\n"
     ]
    }
   ],
   "source": [
    "prediction = model.predict([prepare('C:/test/hi.jpg')])\n",
    "\n",
    "print(CATEGORIES[int(prediction[0][0])])"
   ]
  }
 ],
 "metadata": {
  "kernelspec": {
   "display_name": "Python 3",
   "language": "python",
   "name": "python3"
  },
  "language_info": {
   "codemirror_mode": {
    "name": "ipython",
    "version": 3
   },
   "file_extension": ".py",
   "mimetype": "text/x-python",
   "name": "python",
   "nbconvert_exporter": "python",
   "pygments_lexer": "ipython3",
   "version": "3.7.1"
  }
 },
 "nbformat": 4,
 "nbformat_minor": 2
}
