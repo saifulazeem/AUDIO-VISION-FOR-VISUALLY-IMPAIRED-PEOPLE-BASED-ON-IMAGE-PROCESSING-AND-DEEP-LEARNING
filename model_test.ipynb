{
 "cells": [
  {
   "cell_type": "code",
   "execution_count": 6,
   "metadata": {},
   "outputs": [
    {
     "name": "stdout",
     "output_type": "stream",
     "text": [
      "[[0.]]\n"
     ]
    }
   ],
   "source": [
    "import tensorflow as tf\n",
    "import cv2\n",
    "\n",
    "CATEGORIES = [\"day\", \"night\"]\n",
    "\n",
    "def prepare(filepath):\n",
    "    IMG_SIZE = 224\n",
    "    img_array = cv2.imread(filepath, cv2.IMREAD_GRAYSCALE)\n",
    "    new_array = cv2.resize(img_array, (IMG_SIZE, IMG_SIZE))\n",
    "    return new_array.reshape(-1, IMG_SIZE, IMG_SIZE, 1)\n",
    "#img = cv2.imread('C:\\test\\indoor\\1.jpg')\n",
    "#img = cv2.imread(img, cv2.IMREAD_GRAYSCALE)\n",
    "#img = cv2.resize(img, (50, 50))\n",
    "#img.reshape(-1, 50, 50, 1)\n",
    "\n",
    " \n",
    "\n",
    "model = tf.keras.models.load_model(\"C:/Users/Muhammad Saif/Documents/FYP\\Fyp_Models/day_night_classifier.model\")\n",
    "\n",
    "prediction = model.predict([prepare('C:/test/night/imgss1.jpg')])\n",
    "print(prediction)\n"
   ]
  },
  {
   "cell_type": "code",
   "execution_count": 7,
   "metadata": {},
   "outputs": [
    {
     "name": "stdout",
     "output_type": "stream",
     "text": [
      "day\n"
     ]
    }
   ],
   "source": [
    "prediction = model.predict([prepare('C:/test/night/imgss1.jpg')])\n",
    "\n",
    "print(CATEGORIES[int(prediction[0][0])])\n"
   ]
  },
  {
   "cell_type": "code",
   "execution_count": null,
   "metadata": {},
   "outputs": [],
   "source": []
  }
 ],
 "metadata": {
  "kernelspec": {
   "display_name": "Python 3",
   "language": "python",
   "name": "python3"
  },
  "language_info": {
   "codemirror_mode": {
    "name": "ipython",
    "version": 3
   },
   "file_extension": ".py",
   "mimetype": "text/x-python",
   "name": "python",
   "nbconvert_exporter": "python",
   "pygments_lexer": "ipython3",
   "version": "3.7.4"
  }
 },
 "nbformat": 4,
 "nbformat_minor": 2
}
