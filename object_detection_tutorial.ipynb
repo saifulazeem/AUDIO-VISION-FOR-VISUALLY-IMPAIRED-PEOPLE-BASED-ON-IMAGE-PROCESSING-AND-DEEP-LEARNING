{
 "cells": [
  {
   "cell_type": "markdown",
   "metadata": {
    "colab_type": "text",
    "id": "V8-yl-s-WKMG"
   },
   "source": [
    "# Object Detection Demo\n",
    "Welcome to the object detection inference walkthrough!  This notebook will walk you step by step through the process of using a pre-trained model to detect objects in an image. Make sure to follow the [installation instructions](https://github.com/tensorflow/models/blob/master/research/object_detection/g3doc/installation.md) before you start."
   ]
  },
  {
   "cell_type": "markdown",
   "metadata": {
    "colab_type": "text",
    "id": "kFSqkTCdWKMI"
   },
   "source": [
    " vbn,./# Imports"
   ]
  },
  {
   "cell_type": "code",
   "execution_count": 4,
   "metadata": {},
   "outputs": [],
   "source": [
    " import tensorflow as tf"
   ]
  },
  {
   "cell_type": "code",
   "execution_count": null,
   "metadata": {},
   "outputs": [],
   "source": []
  },
  {
   "cell_type": "code",
   "execution_count": 5,
   "metadata": {
    "colab": {
     "autoexec": {
      "startup": false,
      "wait_interval": 0
     }
    },
    "colab_type": "code",
    "id": "hV4P5gyTWKMI",
    "scrolled": true
   },
   "outputs": [],
   "source": [
    "import numpy as np\n",
    "import os\n",
    "import six.moves.urllib as urllib\n",
    "import sys\n",
    "import tarfile\n",
    "import tensorflow as tf\n",
    "import zipfile\n",
    "\n",
    "from distutils.version import StrictVersion\n",
    "from collections import defaultdict\n",
    "from io import StringIO\n",
    "from matplotlib import pyplot as plt\n",
    "from PIL import Image\n",
    "\n",
    "# This is needed since the notebook is stored in the object_detection folder.\n",
    "sys.path.append(\"..\")\n",
    "from object_detection.utils import ops as utils_ops\n",
    "\n",
    "if StrictVersion(tf.__version__) < StrictVersion('1.12.0'):\n",
    "  raise ImportError('Please upgrade your TensorFlow installation to v1.12.*.')\n"
   ]
  },
  {
   "cell_type": "code",
   "execution_count": null,
   "metadata": {},
   "outputs": [],
   "source": []
  },
  {
   "cell_type": "markdown",
   "metadata": {
    "colab_type": "text",
    "id": "Wy72mWwAWKMK"
   },
   "source": [
    "## Env setup"
   ]
  },
  {
   "cell_type": "code",
   "execution_count": 6,
   "metadata": {
    "colab": {
     "autoexec": {
      "startup": false,
      "wait_interval": 0
     }
    },
    "colab_type": "code",
    "id": "v7m_NY_aWKMK"
   },
   "outputs": [],
   "source": [
    "# This is needed to display the images.\n",
    "%matplotlib inline"
   ]
  },
  {
   "cell_type": "markdown",
   "metadata": {
    "colab_type": "text",
    "id": "r5FNuiRPWKMN"
   },
   "source": [
    "## Object detection imports\n",
    "Here are the imports from the object detection module."
   ]
  },
  {
   "cell_type": "code",
   "execution_count": 7,
   "metadata": {
    "colab": {
     "autoexec": {
      "startup": false,
      "wait_interval": 0
     }
    },
    "colab_type": "code",
    "id": "bm0_uNRnWKMN"
   },
   "outputs": [],
   "source": [
    "from utils import label_map_util\n",
    "\n",
    "from utils import visualization_utils as vis_util"
   ]
  },
  {
   "cell_type": "markdown",
   "metadata": {
    "colab_type": "text",
    "id": "cfn_tRFOWKMO"
   },
   "source": [
    "# Model preparation "
   ]
  },
  {
   "cell_type": "markdown",
   "metadata": {
    "colab_type": "text",
    "id": "X_sEBLpVWKMQ"
   },
   "source": [
    "## Variables\n",
    "\n",
    "Any model exported using the `export_inference_graph.py` tool can be loaded here simply by changing `PATH_TO_FROZEN_GRAPH` to point to a new .pb file.  \n",
    "\n",
    "By default we use an \"SSD with Mobilenet\" model here. See the [detection model zoo](https://github.com/tensorflow/models/blob/master/research/object_detection/g3doc/detection_model_zoo.md) for a list of other models that can be run out-of-the-box with varying speeds and accuracies."
   ]
  },
  {
   "cell_type": "code",
   "execution_count": 8,
   "metadata": {
    "colab": {
     "autoexec": {
      "startup": false,
      "wait_interval": 0
     }
    },
    "colab_type": "code",
    "id": "VyPz_t8WWKMQ"
   },
   "outputs": [],
   "source": [
    "# What model to download.\n",
    "MODEL_NAME = 'ssd_mobilenet_v1_coco_2017_11_17'\n",
    "MODEL_FILE = MODEL_NAME + '.tar.gz'\n",
    "DOWNLOAD_BASE = 'http://download.tensorflow.org/models/object_detection/'\n",
    "\n",
    "# Path to frozen detection graph. This is the actual model that is used for the object detection.\n",
    "PATH_TO_FROZEN_GRAPH = MODEL_NAME + '/frozen_inference_graph.pb'\n",
    "\n",
    "# List of the strings that is used to add correct label for each box.\n",
    "PATH_TO_LABELS = os.path.join('data', 'mscoco_label_map.pbtxt')"
   ]
  },
  {
   "cell_type": "markdown",
   "metadata": {
    "colab_type": "text",
    "id": "7ai8pLZZWKMS"
   },
   "source": [
    "## Download Model"
   ]
  },
  {
   "cell_type": "code",
   "execution_count": 9,
   "metadata": {
    "colab": {
     "autoexec": {
      "startup": false,
      "wait_interval": 0
     }
    },
    "colab_type": "code",
    "id": "KILYnwR5WKMS",
    "scrolled": true
   },
   "outputs": [],
   "source": [
    "opener = urllib.request.URLopener()\n",
    "opener.retrieve(DOWNLOAD_BASE + MODEL_FILE, MODEL_FILE)\n",
    "tar_file = tarfile.open(MODEL_FILE)\n",
    "for file in tar_file.getmembers():\n",
    "  file_name = os.path.basename(file.name)\n",
    "  if 'frozen_inference_graph.pb' in file_name:\n",
    "    tar_file.extract(file, os.getcwd())"
   ]
  },
  {
   "cell_type": "markdown",
   "metadata": {
    "colab_type": "text",
    "id": "YBcB9QHLWKMU"
   },
   "source": [
    "## Load a (frozen) Tensorflow model into memory."
   ]
  },
  {
   "cell_type": "code",
   "execution_count": 10,
   "metadata": {
    "colab": {
     "autoexec": {
      "startup": false,
      "wait_interval": 0
     }
    },
    "colab_type": "code",
    "id": "KezjCRVvWKMV"
   },
   "outputs": [],
   "source": [
    "detection_graph = tf.Graph()\n",
    "with detection_graph.as_default():\n",
    "  od_graph_def = tf.GraphDef()\n",
    "  with tf.gfile.GFile(PATH_TO_FROZEN_GRAPH, 'rb') as fid:\n",
    "    serialized_graph = fid.read()\n",
    "    od_graph_def.ParseFromString(serialized_graph)\n",
    "    tf.import_graph_def(od_graph_def, name='')"
   ]
  },
  {
   "cell_type": "markdown",
   "metadata": {
    "colab_type": "text",
    "id": "_1MVVTcLWKMW"
   },
   "source": [
    "## Loading label map\n",
    "Label maps map indices to category names, so that when our convolution network predicts `5`, we know that this corresponds to `airplane`.  Here we use internal utility functions, but anything that returns a dictionary mapping integers to appropriate string labels would be fine"
   ]
  },
  {
   "cell_type": "code",
   "execution_count": 11,
   "metadata": {
    "colab": {
     "autoexec": {
      "startup": false,
      "wait_interval": 0
     }
    },
    "colab_type": "code",
    "id": "hDbpHkiWWKMX"
   },
   "outputs": [],
   "source": [
    "category_index = label_map_util.create_category_index_from_labelmap(PATH_TO_LABELS, use_display_name=True)"
   ]
  },
  {
   "cell_type": "markdown",
   "metadata": {
    "colab_type": "text",
    "id": "EFsoUHvbWKMZ"
   },
   "source": [
    "## Helper code"
   ]
  },
  {
   "cell_type": "code",
   "execution_count": 12,
   "metadata": {
    "colab": {
     "autoexec": {
      "startup": false,
      "wait_interval": 0
     }
    },
    "colab_type": "code",
    "id": "aSlYc3JkWKMa"
   },
   "outputs": [],
   "source": [
    "def load_image_into_numpy_array(image):\n",
    "  (im_width, im_height) = image.size\n",
    "  return np.array(image.getdata()).reshape(\n",
    "      (im_height, im_width, 3)).astype(np.uint8)"
   ]
  },
  {
   "cell_type": "markdown",
   "metadata": {
    "colab_type": "text",
    "id": "H0_1AGhrWKMc"
   },
   "source": [
    "# Detection"
   ]
  },
  {
   "cell_type": "code",
   "execution_count": 13,
   "metadata": {
    "colab": {
     "autoexec": {
      "startup": false,
      "wait_interval": 0
     }
    },
    "colab_type": "code",
    "id": "jG-zn5ykWKMd"
   },
   "outputs": [
    {
     "data": {
      "text/plain": [
       "[WindowsPath('C:/Users/Bunny/Documents/TensorFlow/models/research/object_detection/test_images/fe357170-0b5f-427b-9a47-faaa165e725c.jfif')]"
      ]
     },
     "execution_count": 13,
     "metadata": {},
     "output_type": "execute_result"
    }
   ],
   "source": [
    "import pathlib\n",
    "# For the sake of simplicity we will use only 2 images:\n",
    "# image1.jpg\n",
    "# image2.jpg\n",
    "# If you want to test the code with your images, just add path to the images to the TEST_IMAGE_PATHS.\n",
    "PATH_TO_TEST_IMAGES_DIR = pathlib.Path('C:/Users/Bunny/Documents/TensorFlow/models/research/object_detection/test_images')\n",
    "        \n",
    "TEST_IMAGE_PATHS = sorted(list(PATH_TO_TEST_IMAGES_DIR.glob(\"*.jfif\")))\n",
    "        \n",
    "\n",
    "IMAGE_SIZE = (12,8)\n",
    "TEST_IMAGE_PATHS"
   ]
  },
  {
   "cell_type": "code",
   "execution_count": 19,
   "metadata": {
    "colab": {
     "autoexec": {
      "startup": false,
      "wait_interval": 0
     }
    },
    "colab_type": "code",
    "id": "92BHxzcNWKMf",
    "scrolled": false
   },
   "outputs": [
    {
     "name": "stdout",
     "output_type": "stream",
     "text": [
      "['car', 'umbrella', 'person', 'person', 'umbrella', 'car', 'person', 'person', 'person', 'car', 'car']\n",
      "[[4, 4, 7, 7], [4, 4, 5, 5], [5, 5, 4, 4], [5, 6, 9, 10], [4, 4, 5, 6], [4, 4, 7, 7], [5, 5, 4, 4], [5, 5, 3, 3], [5, 6, 1, 1], [4, 4, 7, 8], [5, 5, 0, 1]]\n",
      "[[7.0], [5.0], [4.0], [9.5], [5.5], [7.0], [4.0], [3.0], [1.0], [7.5], [0.5]]\n",
      "11\n"
     ]
    }
   ],
   "source": [
    "import cv2,time\n",
    "with detection_graph.as_default():\n",
    "  with tf.Session(graph=detection_graph) as sess:\n",
    "    sess.run(tf.global_variables_initializer())\n",
    "    img = 1\n",
    "    for image_path in TEST_IMAGE_PATHS:\n",
    "      image = Image.open(image_path)\n",
    "      image_np = load_image_into_numpy_array(image)\n",
    "      # Expand dimensions since the model expects images to have shape: [1, None, None, 3]\n",
    "      image_np_expanded = np.expand_dims(image_np, axis=0)\n",
    "      image_tensor = detection_graph.get_tensor_by_name('image_tensor:0')\n",
    "      # Each box represents a part of the image where a particular object was detected.\n",
    "      boxes = detection_graph.get_tensor_by_name('detection_boxes:0')\n",
    "      scores = detection_graph.get_tensor_by_name('detection_scores:0')\n",
    "      classes = detection_graph.get_tensor_by_name('detection_classes:0')\n",
    "      num_detections = detection_graph.get_tensor_by_name('num_detections:0')\n",
    "    \n",
    "      \n",
    "      \n",
    "    \n",
    "    \n",
    "      (boxes, scores, classes, num_detections) = sess.run(\n",
    "          [boxes, scores, classes, num_detections],\n",
    "          feed_dict={image_tensor: image_np_expanded})\n",
    "\n",
    "      out = vis_util.visualize_boxes_and_labels_on_image_array(\n",
    "          image_np,\n",
    "          np.squeeze(boxes),\n",
    "          np.squeeze(classes).astype(np.int32),\n",
    "          np.squeeze(scores),\n",
    "          category_index,\n",
    "          use_normalized_coordinates=True,\n",
    "          line_thickness=8,\n",
    "          min_score_thresh=0.1)\n",
    "       \n",
    "      \n",
    "      #ymin = int((boxes[0][0][0]*image_height))\n",
    "      #xmin = int((boxes[0][0][1]*image_width))\n",
    "      #ymax = int((boxes[0][0][2]*image_height))\n",
    "      #xmax = int((boxes[0][0][3]*image_width))\n",
    "      #(left, right, top, bottom) = (xmin * image_width, xmax * image_width, ymin * image_height, ymax * image_height)\n",
    "      #Result = np.array(image_np[ymin:ymax,xmin:xmax])\n",
    "      #img_item = \"C:/Users/Bunny/Documents/TensorFlow/models/research/object_detection/test_images\"\n",
    "      #cv2.imwrite(img_item, Result)\n",
    "      \n",
    "      #get objects name from image having score value greater then 50%)\n",
    "      your_list = [category_index.get(value) for index,value in enumerate(classes[0]) if scores[0,index] > 0.1]\n",
    "      name = [item['name'] for item in your_list] #names of objects in image\n",
    "      print(name)              #print out names i.e used in making decription\n",
    "      var_len = len(name)         #lenght of objects , used while making description #this variable is used in description to tell number of objects \n",
    "      \n",
    "\n",
    "      im_width, im_height = IMAGE_SIZE\n",
    "      coordinates_list = []\n",
    "      result = []  \n",
    "      counter_for = 0\n",
    "      for i,b in enumerate(boxes[0]):\n",
    "          if scores[0,i] > 0.1:\n",
    "             ymin = int((boxes[0][i][0]*im_height))  #top\n",
    "             xmin = int((boxes[0][i][1]*im_width))   #left\n",
    "             ymax = int((boxes[0][i][2]*im_height))  #bottom\n",
    "             xmax = int((boxes[0][i][3]*im_width))    #right\n",
    "             (left, right, top, bottom) = (xmin * im_width, xmax * im_width,\n",
    "                                  ymin * im_height, ymax * im_height) \n",
    "             coordinates_list.append([ymin, ymax, xmin, xmax])\n",
    "             counter_for = counter_for + 1\n",
    "             result.append([(xmin + xmax) / 2])\n",
    "             #middle_col = (xmin + xmax) / 2\n",
    "             #print(middle_row,middle_col)\n",
    "             \n",
    "                      \n",
    "                    \n",
    "      print(coordinates_list)\n",
    "      print(result)   \n",
    "      plt.figure(figsize=IMAGE_SIZE)\n",
    "      plt.imshow(image_np)\n",
    "      print(var_len)\n",
    "      \n",
    "      \n",
    "    \n",
    "    \n",
    "    #copy paste this cell again"
   ]
  },
  {
   "cell_type": "code",
   "execution_count": null,
   "metadata": {},
   "outputs": [],
   "source": []
  },
  {
   "cell_type": "code",
   "execution_count": 52,
   "metadata": {
    "scrolled": false
   },
   "outputs": [
    {
     "name": "stdout",
     "output_type": "stream",
     "text": [
      "[[7.0], [5.0], [4.0], [9.5], [5.5], [7.0], [4.0], [3.0], [1.0], [7.5], [0.5]]\n",
      "['car', 'umbrella', 'person', 'person', 'umbrella', 'car', 'person', 'person', 'person', 'car', 'car']\n"
     ]
    },
    {
     "data": {
      "text/plain": [
       "[([7.0], 'car'),\n",
       " ([5.0], 'umbrella'),\n",
       " ([4.0], 'person'),\n",
       " ([9.5], 'person'),\n",
       " ([5.5], 'umbrella'),\n",
       " ([7.0], 'car'),\n",
       " ([4.0], 'person'),\n",
       " ([3.0], 'person'),\n",
       " ([1.0], 'person'),\n",
       " ([7.5], 'car'),\n",
       " ([0.5], 'car')]"
      ]
     },
     "execution_count": 52,
     "metadata": {},
     "output_type": "execute_result"
    }
   ],
   "source": [
    "print(result)\n",
    "print(name)\n",
    "zipped = zip(result, name)\n",
    "list(zipped)\n",
    "\n",
    "  \n",
    "          \n"
   ]
  },
  {
   "cell_type": "code",
   "execution_count": 103,
   "metadata": {},
   "outputs": [
    {
     "name": "stdout",
     "output_type": "stream",
     "text": [
      "  the car is on center side of image\n",
      "  the umbrella is on center side of image\n",
      "  the person is on left side of image\n",
      "  the person is on right side of image\n",
      "  the umbrella is on center side of image\n",
      "  the car is on center side of image\n",
      "  the person is on left side of image\n",
      "  the person is on left side of image\n",
      "  the person is on left side of image\n",
      "  the car is on center side of image\n",
      "  the car is on left side of image\n"
     ]
    }
   ],
   "source": [
    "dictOfElems = dict()\n",
    "counter1 = 0\n",
    "l = []\n",
    "for b,n in zip(result,name):\n",
    "    if b >= [0.0] and  b <= [4.0]:\n",
    "        left_obj = \"  the \" + n + \" is on left side of image\" \n",
    "        print(left_obj)\n",
    "           \n",
    "    elif b > [4.0]  and b <= [8.0]:\n",
    "        cen_obj = \"  the \" + n + \" is on center side of image\"\n",
    "        print(cen_obj)\n",
    "           \n",
    "    elif b > [8.0]  and b <= [12.0]: \n",
    "        right_obj = \"  the \" + n + \" is on right side of image\"\n",
    "        print(right_obj)\n",
    "           \n",
    "    else:\n",
    "        print(' ') "
   ]
  },
  {
   "cell_type": "code",
   "execution_count": null,
   "metadata": {},
   "outputs": [],
   "source": []
  },
  {
   "cell_type": "code",
   "execution_count": 54,
   "metadata": {},
   "outputs": [
    {
     "name": "stdout",
     "output_type": "stream",
     "text": [
      "['person', 'person', 'person', 'person', 'car']\n",
      "['car', 'umbrella', 'umbrella', 'car', 'car']\n",
      "['person']\n"
     ]
    }
   ],
   "source": [
    "#here putting objects that are in right, left and center, into seperate list i.e left_item_list)  and from this further will count the deplicate object in each  list i.e 2 person, 3 car\n",
    "left_item_list = []\n",
    "center_item_list =[]\n",
    "right_item_list =[]\n",
    "for b,n in zip(result,name):\n",
    "    if b >= [0.0] and  b <= [4.0]:\n",
    "        left_item_list.append(n) \n",
    "    elif b > [4.0]  and b <= [8.0]:  \n",
    "        center_item_list.append(n)\n",
    "    elif b > [8.0]  and b <= [12.0]:\n",
    "         right_item_list.append(n)\n",
    "print(left_item_list)        \n",
    "print(center_item_list)         \n",
    "print(right_item_list)     "
   ]
  },
  {
   "cell_type": "code",
   "execution_count": 95,
   "metadata": {},
   "outputs": [
    {
     "name": "stdout",
     "output_type": "stream",
     "text": [
      "['car', 'umbrella', 'person', 'person', 'umbrella', 'car', 'person', 'person', 'person', 'car', 'car']\n",
      "['4 are car, ', '2 are umbrella, ', '5 are person, ']\n"
     ]
    }
   ],
   "source": [
    "# this cell is basically for counting deplicate object in complete image \n",
    "print(name) \n",
    "\n",
    "def getDuplicatesWithCount(name):\n",
    "    ''' Get frequency count of duplicate elements in the given list '''\n",
    "    dictOfElems = dict()\n",
    "    # Iterate over each element in list\n",
    "    for elem in name:\n",
    "        # If element exists in dict then increment its value else add it in dict\n",
    "        if elem in dictOfElems:\n",
    "            dictOfElems[elem] += 1\n",
    "        else:\n",
    "            dictOfElems[elem] = 1    \n",
    " \n",
    "    # Filter key-value pairs in dictionary. Keep pairs whose value is greater than 1 i.e. only duplicate elements from list.\n",
    "    dictOfElems = { key:value for key, value in dictOfElems.items() if value > 1}\n",
    "    # Returns a dict of duplicate elements and thier frequency count\n",
    "    return dictOfElems\n",
    "\n",
    "# Get a dictionary containing duplicate elements in list and their frequency count\n",
    "dictOfElems = getDuplicatesWithCount(name)     \n",
    "total_obj_count = [] \n",
    "for key, value in dictOfElems.items():\n",
    "          co_item = key , ' :: ', value\n",
    "          total_obj_count.append(str(value) + ' are ' + str(key) + ', ')\n",
    "    \n",
    "print(total_obj_count)\n",
    "        "
   ]
  },
  {
   "cell_type": "code",
   "execution_count": 56,
   "metadata": {},
   "outputs": [
    {
     "name": "stdout",
     "output_type": "stream",
     "text": [
      "['4 person']\n",
      "['4 person', '1 car']\n"
     ]
    }
   ],
   "source": [
    "#this is for counting deplicate object ob left side of image \n",
    "def getDuplicatesWithCount(left_item_list):\n",
    "    ''' Get frequency count of duplicate elements in the given list '''\n",
    "    dictOfElems = dict()\n",
    "    # Iterate over each element in list\n",
    "    for elem in left_item_list:\n",
    "        # If element exists in dict then increment its value else add it in dict\n",
    "        if elem in dictOfElems:\n",
    "            dictOfElems[elem] += 1\n",
    "        else:\n",
    "            dictOfElems[elem] = 1    \n",
    " \n",
    "    # Filter key-value pairs in dictionary. Keep pairs whose value is greater than 1 i.e. only duplicate elements from list.\n",
    "    dictOfElems = { key:value for key, value in dictOfElems.items() if value >= 1}\n",
    "    # Returns a dict of duplicate elements and thier frequency count\n",
    "    return dictOfElems\n",
    "\n",
    "# Get a dictionary containing duplicate elements in list and their frequency count\n",
    "dictOfElems = getDuplicatesWithCount(left_item_list)     \n",
    "left_count_obj = [] \n",
    "for key, value in dictOfElems.items():\n",
    "          co_item = key , ' :: ', value\n",
    "          left_count_obj.append(str(value) + ' ' + str(key) + '')\n",
    "          \n",
    "          print(left_count_obj)"
   ]
  },
  {
   "cell_type": "code",
   "execution_count": 57,
   "metadata": {},
   "outputs": [
    {
     "name": "stdout",
     "output_type": "stream",
     "text": [
      "['3 car']\n",
      "['3 car', '2 umbrella']\n"
     ]
    }
   ],
   "source": [
    "#this is for counting deplicate object ob center side of image \n",
    "def getDuplicatesWithCount(center_item_list):\n",
    "    ''' Get frequency count of duplicate elements in the given list '''\n",
    "    dictOfElems = dict()\n",
    "    # Iterate over each element in list\n",
    "    for elem in center_item_list:\n",
    "        # If element exists in dict then increment its value else add it in dict\n",
    "        if elem in dictOfElems:\n",
    "            dictOfElems[elem] += 1\n",
    "        else:\n",
    "            dictOfElems[elem] = 1    \n",
    " \n",
    "    # Filter key-value pairs in dictionary. Keep pairs whose value is greater than 1 i.e. only duplicate elements from list.\n",
    "    dictOfElems = { key:value for key, value in dictOfElems.items() if value >= 1}\n",
    "    # Returns a dict of duplicate elements and thier frequency count\n",
    "    return dictOfElems\n",
    "\n",
    "# Get a dictionary containing duplicate elements in list and their frequency count\n",
    "dictOfElems = getDuplicatesWithCount(center_item_list)     \n",
    "center_count_obj = [] \n",
    "for key, value in dictOfElems.items():\n",
    "          co_item = key , ' :: ', value\n",
    "          center_count_obj.append(str(value) + ' ' + str(key) + '')\n",
    "            \n",
    "          print(center_count_obj)"
   ]
  },
  {
   "cell_type": "code",
   "execution_count": 58,
   "metadata": {
    "scrolled": true
   },
   "outputs": [
    {
     "name": "stdout",
     "output_type": "stream",
     "text": [
      "['1 person']\n"
     ]
    }
   ],
   "source": [
    "#this is for counting deplicate object ob right side of image \n",
    "def getDuplicatesWithCount(right_item_list):\n",
    "    ''' Get frequency count of duplicate elements in the given list '''\n",
    "    dictOfElems = dict()\n",
    "    # Iterate over each element in list\n",
    "    for elem in right_item_list:\n",
    "        # If element exists in dict then increment its value else add it in dict\n",
    "        if elem in dictOfElems:\n",
    "            dictOfElems[elem] += 1\n",
    "        else:\n",
    "            dictOfElems[elem] = 1    \n",
    " \n",
    "    # Filter key-value pairs in dictionary. Keep pairs whose value is greater than 1 i.e. only duplicate elements from list.\n",
    "    dictOfElems = { key:value for key, value in dictOfElems.items() if value >= 1}\n",
    "    # Returns a dict of duplicate elements and thier frequency count\n",
    "    return dictOfElems\n",
    "\n",
    "# Get a dictionary containing duplicate elements in list and their frequency count\n",
    "dictOfElems = getDuplicatesWithCount(right_item_list)     \n",
    "right_count_obj = [] \n",
    "for key, value in dictOfElems.items():\n",
    "          co_item = key , ' :: ', value\n",
    "          right_count_obj.append(str(value) + ' ' + str(key) + '')\n",
    "        \n",
    "          print(right_count_obj)\n",
    "         "
   ]
  },
  {
   "cell_type": "code",
   "execution_count": 100,
   "metadata": {},
   "outputs": [
    {
     "name": "stdout",
     "output_type": "stream",
     "text": [
      " there are almost 11  objects identified in given image, among them 4 are car, 2 are umbrella, 5 are person,  moreover 4 person1 car at left side and, 3 car2 umbrella are at center and  1 person are at right side of image\n"
     ]
    }
   ],
   "source": [
    "if var_len == 0:\n",
    "    a = 'there is no '\n",
    "    \n",
    "elif var_len > 0:\n",
    "     a = 'there are almost ' + str(var_len) + ' '\n",
    "     \n",
    "\n",
    "des =  \" \" + str(a) + \" objects identified in given image, among them \"  + '' .join(total_obj_count) + \" moreover \" + '' .join(left_count_obj)  + \" at left side and, \" + ''.join(center_count_obj) + ' are at center and  ' + '' .join(right_count_obj) + \" are at right side of image\" \n",
    "print(des)\n",
    "   "
   ]
  },
  {
   "cell_type": "code",
   "execution_count": 37,
   "metadata": {},
   "outputs": [
    {
     "name": "stdout",
     "output_type": "stream",
     "text": [
      "there are almost 11 objects identified in given image\n"
     ]
    }
   ],
   "source": []
  },
  {
   "cell_type": "code",
   "execution_count": null,
   "metadata": {
    "scrolled": true
   },
   "outputs": [],
   "source": [
    "\n",
    "    \n",
    "    \n",
    "   "
   ]
  },
  {
   "cell_type": "code",
   "execution_count": null,
   "metadata": {},
   "outputs": [],
   "source": [
    "\n"
   ]
  },
  {
   "cell_type": "code",
   "execution_count": null,
   "metadata": {},
   "outputs": [],
   "source": []
  },
  {
   "cell_type": "code",
   "execution_count": null,
   "metadata": {},
   "outputs": [],
   "source": [
    "\n",
    "      "
   ]
  },
  {
   "cell_type": "code",
   "execution_count": 83,
   "metadata": {},
   "outputs": [],
   "source": [
    "       "
   ]
  },
  {
   "cell_type": "code",
   "execution_count": null,
   "metadata": {},
   "outputs": [],
   "source": []
  },
  {
   "cell_type": "markdown",
   "metadata": {
    "colab": {
     "autoexec": {
      "startup": false,
      "wait_interval": 0
     }
    },
    "colab_type": "code",
    "id": "3a5wMHN8WKMh"
   },
   "source": [
    "\n",
    "  "
   ]
  },
  {
   "cell_type": "code",
   "execution_count": null,
   "metadata": {
    "colab": {
     "autoexec": {
      "startup": false,
      "wait_interval": 0
     }
    },
    "colab_type": "code",
    "id": "LQSEnEsPWKMj",
    "scrolled": false
   },
   "outputs": [],
   "source": []
  },
  {
   "cell_type": "code",
   "execution_count": null,
   "metadata": {},
   "outputs": [],
   "source": []
  }
 ],
 "metadata": {
  "colab": {
   "default_view": {},
   "name": "object_detection_tutorial.ipynb?workspaceId=ronnyvotel:python_inference::citc",
   "provenance": [],
   "version": "0.3.2",
   "views": {}
  },
  "kernelspec": {
   "display_name": "Python 3",
   "language": "python",
   "name": "python3"
  },
  "language_info": {
   "codemirror_mode": {
    "name": "ipython",
    "version": 3
   },
   "file_extension": ".py",
   "mimetype": "text/x-python",
   "name": "python",
   "nbconvert_exporter": "python",
   "pygments_lexer": "ipython3",
   "version": "3.6.10"
  }
 },
 "nbformat": 4,
 "nbformat_minor": 1
}
