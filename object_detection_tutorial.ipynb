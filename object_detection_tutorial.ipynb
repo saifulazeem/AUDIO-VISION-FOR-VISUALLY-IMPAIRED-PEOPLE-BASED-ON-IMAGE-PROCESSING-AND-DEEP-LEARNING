{
 "cells": [
  {
   "cell_type": "markdown",
   "metadata": {
    "colab_type": "text",
    "id": "V8-yl-s-WKMG"
   },
   "source": [
    "# Object Detection Demo\n",
    "Welcome to the object detection inference walkthrough!  This notebook will walk you step by step through the process of using a pre-trained model to detect objects in an image. Make sure to follow the [installation instructions](https://github.com/tensorflow/models/blob/master/research/object_detection/g3doc/installation.md) before you start."
   ]
  },
  {
   "cell_type": "markdown",
   "metadata": {
    "colab_type": "text",
    "id": "kFSqkTCdWKMI"
   },
   "source": [
    " vbn,./# Imports"
   ]
  },
  {
   "cell_type": "code",
   "execution_count": 126,
   "metadata": {},
   "outputs": [],
   "source": [
    " import tensorflow as tf"
   ]
  },
  {
   "cell_type": "code",
   "execution_count": null,
   "metadata": {},
   "outputs": [],
   "source": []
  },
  {
   "cell_type": "code",
   "execution_count": 127,
   "metadata": {
    "colab": {
     "autoexec": {
      "startup": false,
      "wait_interval": 0
     }
    },
    "colab_type": "code",
    "id": "hV4P5gyTWKMI",
    "scrolled": true
   },
   "outputs": [],
   "source": [
    "import numpy as np\n",
    "import os\n",
    "import six.moves.urllib as urllib\n",
    "import sys\n",
    "import tarfile\n",
    "import tensorflow as tf\n",
    "import zipfile\n",
    "\n",
    "from distutils.version import StrictVersion\n",
    "from collections import defaultdict\n",
    "from io import StringIO\n",
    "from matplotlib import pyplot as plt\n",
    "from PIL import Image\n",
    "\n",
    "# This is needed since the notebook is stored in the object_detection folder.\n",
    "sys.path.append(\"..\")\n",
    "from object_detection.utils import ops as utils_ops\n",
    "\n",
    "if StrictVersion(tf.__version__) < StrictVersion('1.12.0'):\n",
    "  raise ImportError('Please upgrade your TensorFlow installation to v1.12.*.')\n"
   ]
  },
  {
   "cell_type": "code",
   "execution_count": null,
   "metadata": {},
   "outputs": [],
   "source": []
  },
  {
   "cell_type": "markdown",
   "metadata": {
    "colab_type": "text",
    "id": "Wy72mWwAWKMK"
   },
   "source": [
    "## Env setup"
   ]
  },
  {
   "cell_type": "code",
   "execution_count": 128,
   "metadata": {
    "colab": {
     "autoexec": {
      "startup": false,
      "wait_interval": 0
     }
    },
    "colab_type": "code",
    "id": "v7m_NY_aWKMK"
   },
   "outputs": [],
   "source": [
    "# This is needed to display the images.\n",
    "%matplotlib inline"
   ]
  },
  {
   "cell_type": "markdown",
   "metadata": {
    "colab_type": "text",
    "id": "r5FNuiRPWKMN"
   },
   "source": [
    "## Object detection imports\n",
    "Here are the imports from the object detection module."
   ]
  },
  {
   "cell_type": "code",
   "execution_count": 129,
   "metadata": {
    "colab": {
     "autoexec": {
      "startup": false,
      "wait_interval": 0
     }
    },
    "colab_type": "code",
    "id": "bm0_uNRnWKMN"
   },
   "outputs": [],
   "source": [
    "from utils import label_map_util\n",
    "\n",
    "from utils import visualization_utils as vis_util"
   ]
  },
  {
   "cell_type": "markdown",
   "metadata": {
    "colab_type": "text",
    "id": "cfn_tRFOWKMO"
   },
   "source": [
    "# Model preparation "
   ]
  },
  {
   "cell_type": "markdown",
   "metadata": {
    "colab_type": "text",
    "id": "X_sEBLpVWKMQ"
   },
   "source": [
    "## Variables\n",
    "\n",
    "Any model exported using the `export_inference_graph.py` tool can be loaded here simply by changing `PATH_TO_FROZEN_GRAPH` to point to a new .pb file.  \n",
    "\n",
    "By default we use an \"SSD with Mobilenet\" model here. See the [detection model zoo](https://github.com/tensorflow/models/blob/master/research/object_detection/g3doc/detection_model_zoo.md) for a list of other models that can be run out-of-the-box with varying speeds and accuracies."
   ]
  },
  {
   "cell_type": "code",
   "execution_count": 130,
   "metadata": {
    "colab": {
     "autoexec": {
      "startup": false,
      "wait_interval": 0
     }
    },
    "colab_type": "code",
    "id": "VyPz_t8WWKMQ"
   },
   "outputs": [],
   "source": [
    "# What model to download.\n",
    "MODEL_NAME = 'ssd_mobilenet_v1_coco_2017_11_17'\n",
    "MODEL_FILE = MODEL_NAME + '.tar.gz'\n",
    "DOWNLOAD_BASE = 'http://download.tensorflow.org/models/object_detection/'\n",
    "\n",
    "# Path to frozen detection graph. This is the actual model that is used for the object detection.\n",
    "PATH_TO_FROZEN_GRAPH = MODEL_NAME + '/frozen_inference_graph.pb'\n",
    "\n",
    "# List of the strings that is used to add correct label for each box.\n",
    "PATH_TO_LABELS = os.path.join('data', 'mscoco_label_map.pbtxt')"
   ]
  },
  {
   "cell_type": "markdown",
   "metadata": {
    "colab_type": "text",
    "id": "7ai8pLZZWKMS"
   },
   "source": [
    "## Download Model"
   ]
  },
  {
   "cell_type": "code",
   "execution_count": 131,
   "metadata": {
    "colab": {
     "autoexec": {
      "startup": false,
      "wait_interval": 0
     }
    },
    "colab_type": "code",
    "id": "KILYnwR5WKMS",
    "scrolled": true
   },
   "outputs": [],
   "source": [
    "opener = urllib.request.URLopener()\n",
    "opener.retrieve(DOWNLOAD_BASE + MODEL_FILE, MODEL_FILE)\n",
    "tar_file = tarfile.open(MODEL_FILE)\n",
    "for file in tar_file.getmembers():\n",
    "  file_name = os.path.basename(file.name)\n",
    "  if 'frozen_inference_graph.pb' in file_name:\n",
    "    tar_file.extract(file, os.getcwd())"
   ]
  },
  {
   "cell_type": "markdown",
   "metadata": {
    "colab_type": "text",
    "id": "YBcB9QHLWKMU"
   },
   "source": [
    "## Load a (frozen) Tensorflow model into memory."
   ]
  },
  {
   "cell_type": "code",
   "execution_count": 132,
   "metadata": {
    "colab": {
     "autoexec": {
      "startup": false,
      "wait_interval": 0
     }
    },
    "colab_type": "code",
    "id": "KezjCRVvWKMV"
   },
   "outputs": [],
   "source": [
    "detection_graph = tf.Graph()\n",
    "with detection_graph.as_default():\n",
    "  od_graph_def = tf.GraphDef()\n",
    "  with tf.gfile.GFile(PATH_TO_FROZEN_GRAPH, 'rb') as fid:\n",
    "    serialized_graph = fid.read()\n",
    "    od_graph_def.ParseFromString(serialized_graph)\n",
    "    tf.import_graph_def(od_graph_def, name='')"
   ]
  },
  {
   "cell_type": "markdown",
   "metadata": {
    "colab_type": "text",
    "id": "_1MVVTcLWKMW"
   },
   "source": [
    "## Loading label map\n",
    "Label maps map indices to category names, so that when our convolution network predicts `5`, we know that this corresponds to `airplane`.  Here we use internal utility functions, but anything that returns a dictionary mapping integers to appropriate string labels would be fine"
   ]
  },
  {
   "cell_type": "code",
   "execution_count": 133,
   "metadata": {
    "colab": {
     "autoexec": {
      "startup": false,
      "wait_interval": 0
     }
    },
    "colab_type": "code",
    "id": "hDbpHkiWWKMX"
   },
   "outputs": [],
   "source": [
    "category_index = label_map_util.create_category_index_from_labelmap(PATH_TO_LABELS, use_display_name=True)"
   ]
  },
  {
   "cell_type": "markdown",
   "metadata": {
    "colab_type": "text",
    "id": "EFsoUHvbWKMZ"
   },
   "source": [
    "## Helper code"
   ]
  },
  {
   "cell_type": "code",
   "execution_count": 134,
   "metadata": {
    "colab": {
     "autoexec": {
      "startup": false,
      "wait_interval": 0
     }
    },
    "colab_type": "code",
    "id": "aSlYc3JkWKMa"
   },
   "outputs": [],
   "source": [
    "def load_image_into_numpy_array(image):\n",
    "  (im_width, im_height) = image.size\n",
    "  return np.array(image.getdata()).reshape(\n",
    "      (im_height, im_width, 3)).astype(np.uint8)"
   ]
  },
  {
   "cell_type": "markdown",
   "metadata": {
    "colab_type": "text",
    "id": "H0_1AGhrWKMc"
   },
   "source": [
    "# Detection"
   ]
  },
  {
   "cell_type": "code",
   "execution_count": 135,
   "metadata": {
    "colab": {
     "autoexec": {
      "startup": false,
      "wait_interval": 0
     }
    },
    "colab_type": "code",
    "id": "jG-zn5ykWKMd"
   },
   "outputs": [
    {
     "ename": "TypeError",
     "evalue": "'list' object is not callable",
     "output_type": "error",
     "traceback": [
      "\u001b[1;31m---------------------------------------------------------------------------\u001b[0m",
      "\u001b[1;31mTypeError\u001b[0m                                 Traceback (most recent call last)",
      "\u001b[1;32m<ipython-input-135-9834af0dc38b>\u001b[0m in \u001b[0;36m<module>\u001b[1;34m\u001b[0m\n\u001b[0;32m      6\u001b[0m \u001b[0mPATH_TO_TEST_IMAGES_DIR\u001b[0m \u001b[1;33m=\u001b[0m \u001b[0mpathlib\u001b[0m\u001b[1;33m.\u001b[0m\u001b[0mPath\u001b[0m\u001b[1;33m(\u001b[0m\u001b[1;34m'C:/Users/Bunny/Documents/TensorFlow/models/research/object_detection/test_images'\u001b[0m\u001b[1;33m)\u001b[0m\u001b[1;33m\u001b[0m\u001b[1;33m\u001b[0m\u001b[0m\n\u001b[0;32m      7\u001b[0m \u001b[1;33m\u001b[0m\u001b[0m\n\u001b[1;32m----> 8\u001b[1;33m \u001b[0mTEST_IMAGE_PATHS\u001b[0m \u001b[1;33m=\u001b[0m \u001b[0msorted\u001b[0m\u001b[1;33m(\u001b[0m\u001b[0mlist\u001b[0m\u001b[1;33m(\u001b[0m\u001b[0mPATH_TO_TEST_IMAGES_DIR\u001b[0m\u001b[1;33m.\u001b[0m\u001b[0mglob\u001b[0m\u001b[1;33m(\u001b[0m\u001b[1;34m\"*.jpg\"\u001b[0m\u001b[1;33m)\u001b[0m\u001b[1;33m)\u001b[0m\u001b[1;33m)\u001b[0m\u001b[1;33m\u001b[0m\u001b[1;33m\u001b[0m\u001b[0m\n\u001b[0m\u001b[0;32m      9\u001b[0m \u001b[1;33m\u001b[0m\u001b[0m\n\u001b[0;32m     10\u001b[0m \u001b[1;33m\u001b[0m\u001b[0m\n",
      "\u001b[1;31mTypeError\u001b[0m: 'list' object is not callable"
     ]
    }
   ],
   "source": [
    "import pathlib\n",
    "# For the sake of simplicity we will use only 2 images:\n",
    "# image1.jpg\n",
    "# image2.jpg\n",
    "# If you want to test the code with your images, just add path to the images to the TEST_IMAGE_PATHS.\n",
    "PATH_TO_TEST_IMAGES_DIR = pathlib.Path('C:/Users/Bunny/Documents/TensorFlow/models/research/object_detection/test_images')\n",
    "        \n",
    "TEST_IMAGE_PATHS = sorted(list(PATH_TO_TEST_IMAGES_DIR.glob(\"*.jpg\")))\n",
    "        \n",
    "\n",
    "IMAGE_SIZE = (12,8)\n",
    "TEST_IMAGE_PATHS"
   ]
  },
  {
   "cell_type": "code",
   "execution_count": 136,
   "metadata": {
    "colab": {
     "autoexec": {
      "startup": false,
      "wait_interval": 0
     }
    },
    "colab_type": "code",
    "id": "92BHxzcNWKMf",
    "scrolled": true
   },
   "outputs": [
    {
     "name": "stdout",
     "output_type": "stream",
     "text": [
      "['chair', 'dining table', 'chair', 'tv']\n",
      "[[3, 6, 1, 4], [3, 7, 3, 9], [3, 7, 8, 11], [3, 3, 8, 10]]\n",
      "[[2.5], [6.0], [9.5], [9.0]]\n",
      "4\n",
      "[]\n"
     ]
    },
    {
     "data": {
      "image/png": "[encoded data removed]",
      "text/plain": [
       "<Figure size 864x576 with 1 Axes>"
      ]
     },
     "metadata": {
      "needs_background": "light"
     },
     "output_type": "display_data"
    }
   ],
   "source": [
    "#again copy \n",
    "import cv2,time\n",
    "with detection_graph.as_default():\n",
    "  with tf.Session(graph=detection_graph) as sess:\n",
    "    sess.run(tf.global_variables_initializer())\n",
    "    img = 1\n",
    "    for image_path in TEST_IMAGE_PATHS:\n",
    "      image = Image.open(image_path)\n",
    "      image_np = load_image_into_numpy_array(image)\n",
    "      # Expand dimensions since the model expects images to have shape: [1, None, None, 3]\n",
    "      image_np_expanded = np.expand_dims(image_np, axis=0)\n",
    "      image_tensor = detection_graph.get_tensor_by_name('image_tensor:0')\n",
    "      # Each box represents a part of the image where a particular object was detected.\n",
    "      boxes = detection_graph.get_tensor_by_name('detection_boxes:0')\n",
    "      scores = detection_graph.get_tensor_by_name('detection_scores:0')\n",
    "      classes = detection_graph.get_tensor_by_name('detection_classes:0')\n",
    "      num_detections = detection_graph.get_tensor_by_name('num_detections:0')\n",
    "    \n",
    "      \n",
    "      \n",
    "    \n",
    "    \n",
    "      (boxes, scores, classes, num_detections) = sess.run(\n",
    "          [boxes, scores, classes, num_detections],\n",
    "          feed_dict={image_tensor: image_np_expanded})\n",
    "\n",
    "      out = vis_util.visualize_boxes_and_labels_on_image_array(\n",
    "          image_np,\n",
    "          np.squeeze(boxes),\n",
    "          np.squeeze(classes).astype(np.int32),\n",
    "          np.squeeze(scores),\n",
    "          category_index,\n",
    "          use_normalized_coordinates=True,\n",
    "          line_thickness=8,\n",
    "          min_score_thresh=0.3)\n",
    "       \n",
    "      \n",
    "      #ymin = int((boxes[0][0][0]*image_height))\n",
    "      #xmin = int((boxes[0][0][1]*image_width))\n",
    "      #ymax = int((boxes[0][0][2]*image_height))\n",
    "      #xmax = int((boxes[0][0][3]*image_width))\n",
    "      #(left, right, top, bottom) = (xmin * image_width, xmax * image_width, ymin * image_height, ymax * image_height)\n",
    "      #Result = np.array(image_np[ymin:ymax,xmin:xmax])\n",
    "      #img_item = \"C:/Users/Bunny/Documents/TensorFlow/models/research/object_detection/test_images\"\n",
    "      #cv2.imwrite(img_item, Result)\n",
    "      \n",
    "      #get objects name from image having score value greater then 50%)\n",
    "      your_list = [category_index.get(value) for index,value in enumerate(classes[0]) if scores[0,index] > 0.3]\n",
    "      name = [item['name'] for item in your_list] #names of objects in image\n",
    "      print(name)              #print out names i.e used in making decription\n",
    "      var_len = len(name)         #lenght of objects , used while making description #this variable is used in description to tell number of objects \n",
    "      \n",
    "\n",
    "      im_width, im_height = IMAGE_SIZE\n",
    "      coordinates_list = []\n",
    "      result = []  \n",
    "      top_left_points_list =[]\n",
    "      counter_for = 0\n",
    "      for i,b in enumerate(boxes[0]):\n",
    "          if scores[0,i] > 0.3:\n",
    "             ymin = int((boxes[0][i][0]*im_height))  #top\n",
    "             xmin = int((boxes[0][i][1]*im_width))   #left\n",
    "             ymax = int((boxes[0][i][2]*im_height))  #bottom\n",
    "             xmax = int((boxes[0][i][3]*im_width))    #right\n",
    "             (left, right, top, bottom) = (xmin * im_width, xmax * im_width,\n",
    "                                  ymin * im_height, ymax * im_height) \n",
    "             coordinates_list.append([ymin, ymax, xmin, xmax])\n",
    "            \n",
    "           \n",
    "             counter_for = counter_for + 1\n",
    "             \n",
    "             result.append([(xmin + xmax) / 2])\n",
    "             #middle_col = (xmin + xmax) / 2\n",
    "             #print(middle_row,middle_col)\n",
    "             \n",
    "                      \n",
    "                    \n",
    "      print(coordinates_list)\n",
    "      print(result)   \n",
    "      plt.figure(figsize=IMAGE_SIZE)\n",
    "      plt.imshow(image_np)\n",
    "      print(var_len)\n",
    "      print(top_left_points_list)\n",
    "      \n",
    "    \n",
    "    \n",
    "    #copy paste this cell again "
   ]
  },
  {
   "cell_type": "code",
   "execution_count": 137,
   "metadata": {},
   "outputs": [],
   "source": [
    "#new chunk implement relation with comparing every coordinate box with each other\n",
    "#next code cell is alos its part (a)\n",
    "class Solution(object):\n",
    "    def isRectangleOverlap(self, rec1, rec2):\n",
    "      if (rec1[2] <= rec2[0]):\n",
    "        print(n + \" beside \" + m)\n",
    "      \n",
    "      elif (rec1[3] <= rec2[1]): \n",
    "        print(n + \" is below\" + m) \n",
    "\n",
    "      elif (rec1[0] >= rec2[2]):\n",
    "        print(n + \" beside \" + m)\n",
    "\n",
    "      elif (rec1[1] >= rec2[3]):\n",
    "        print(n + \" is above  \" + m) \n",
    "\n",
    "      else:\n",
    "        print(n + \" in front of \" + m) \n",
    "        \n",
    "      "
   ]
  },
  {
   "cell_type": "code",
   "execution_count": 138,
   "metadata": {
    "scrolled": true
   },
   "outputs": [
    {
     "name": "stdout",
     "output_type": "stream",
     "text": [
      "[[3, 6, 1, 4], [3, 7, 3, 9], [3, 7, 8, 11], [3, 3, 8, 10]]\n",
      "['chair', 'dining table', 'chair', 'tv']\n",
      "chair beside dining table\n",
      "chair beside chair\n",
      "chair beside tv\n",
      "dining table beside chair\n",
      "dining table beside chair\n",
      "dining table beside tv\n",
      "chair beside chair\n",
      "chair beside dining table\n",
      "chair in front of tv\n",
      "tv beside chair\n",
      "tv beside dining table\n",
      "tv in front of chair\n"
     ]
    }
   ],
   "source": [
    "##new chunk related to relation comparing each boz part (b)\n",
    "print(coordinates_list) \n",
    "print(name)\n",
    "\n",
    "for i,n in zip(coordinates_list,name):\n",
    "    rec1 = i\n",
    "    #print(rec1)\n",
    "    for j, m in zip(coordinates_list,name):\n",
    "        if(i==j):\n",
    "            rec2 =! j\n",
    "        else:\n",
    "            rec2 = j\n",
    "            \n",
    "            p = n + \" and \" + m \n",
    "            p2 = n \n",
    "            p3 = m\n",
    "            #print(p)\n",
    "            x = Solution()    \n",
    "            x.isRectangleOverlap(rec1,rec2)                                                                 \n",
    "            "
   ]
  },
  {
   "cell_type": "code",
   "execution_count": 139,
   "metadata": {},
   "outputs": [
    {
     "data": {
      "text/plain": [
       "[3, 7, 8, 11]"
      ]
     },
     "execution_count": 139,
     "metadata": {},
     "output_type": "execute_result"
    }
   ],
   "source": [
    "#new chunk to find mid point. and find out relation ith respect  to that central coordinate\n",
    "#part(a)\n",
    "midd_point_list =[]\n",
    "def findMiddle(coordinates_list):\n",
    "    middle = float(len(coordinates_list))/2\n",
    "    if middle % 2 != 0:\n",
    "        mid = coordinates_list[int(middle - .5)]\n",
    "        midd_point_list.append(mid)\n",
    "        return mid\n",
    "    else:\n",
    "        mid =  (coordinates_list[int(middle)])\n",
    "        midd_point_list.append(mid)\n",
    "        return mid\n",
    "\n",
    "findMiddle(coordinates_list)    "
   ]
  },
  {
   "cell_type": "code",
   "execution_count": 141,
   "metadata": {},
   "outputs": [],
   "source": [
    "#new chunk\n",
    "#part(b)\n",
    "class Solution(object):\n",
    "    def isRectangleOverlap(self, rec1, rec2):\n",
    "      if (rec1[2] <= rec2[0]):\n",
    "        print(n + \" beside \" + m)\n",
    "      \n",
    "      elif (rec1[3] <= rec2[1]): \n",
    "        print(n + \" is below\" + m) \n",
    "\n",
    "      elif (rec1[0] >= rec2[2]):\n",
    "        print(n + \" beside \" + m)\n",
    "\n",
    "      elif (rec1[1] >= rec2[3]):\n",
    "        print(n + \" is above  \" + m) \n",
    "\n",
    "      else:\n",
    "        print(n + \" in front of \" + m) \n",
    "        "
   ]
  },
  {
   "cell_type": "code",
   "execution_count": 142,
   "metadata": {},
   "outputs": [
    {
     "name": "stdout",
     "output_type": "stream",
     "text": [
      "chair beside chair\n",
      "chair beside dining table\n",
      "chair in front of tv\n"
     ]
    }
   ],
   "source": [
    "#part(c)\n",
    "for i,n in zip(midd_point_list,name):\n",
    "    rec1 = i\n",
    "    #print(rec1)\n",
    "    for j, m in zip(coordinates_list,name):\n",
    "        if(i==j):\n",
    "            rec2 =! j\n",
    "        else:\n",
    "            rec2 = j\n",
    "            \n",
    "            p = n + \" and \" + m \n",
    "            p2 = n \n",
    "            p3 = m\n",
    "            #print(p)\n",
    "            x = Solution()    \n",
    "            x.isRectangleOverlap(rec1,rec2)     \n",
    "            \n",
    " #from here go to last code cell \"decription \"           "
   ]
  },
  {
   "cell_type": "code",
   "execution_count": 143,
   "metadata": {
    "scrolled": false
   },
   "outputs": [
    {
     "name": "stdout",
     "output_type": "stream",
     "text": [
      "[[2.5], [6.0], [9.5], [9.0]]\n",
      "['chair', 'dining table', 'chair', 'tv']\n"
     ]
    },
    {
     "ename": "TypeError",
     "evalue": "'list' object is not callable",
     "output_type": "error",
     "traceback": [
      "\u001b[1;31m---------------------------------------------------------------------------\u001b[0m",
      "\u001b[1;31mTypeError\u001b[0m                                 Traceback (most recent call last)",
      "\u001b[1;32m<ipython-input-143-e27a98bc45bb>\u001b[0m in \u001b[0;36m<module>\u001b[1;34m\u001b[0m\n\u001b[0;32m      2\u001b[0m \u001b[0mprint\u001b[0m\u001b[1;33m(\u001b[0m\u001b[0mname\u001b[0m\u001b[1;33m)\u001b[0m\u001b[1;33m\u001b[0m\u001b[1;33m\u001b[0m\u001b[0m\n\u001b[0;32m      3\u001b[0m \u001b[0mzipped\u001b[0m \u001b[1;33m=\u001b[0m \u001b[0mzip\u001b[0m\u001b[1;33m(\u001b[0m\u001b[0mresult\u001b[0m\u001b[1;33m,\u001b[0m \u001b[0mname\u001b[0m\u001b[1;33m)\u001b[0m\u001b[1;33m\u001b[0m\u001b[1;33m\u001b[0m\u001b[0m\n\u001b[1;32m----> 4\u001b[1;33m \u001b[0mlist\u001b[0m\u001b[1;33m(\u001b[0m\u001b[0mzipped\u001b[0m\u001b[1;33m)\u001b[0m\u001b[1;33m\u001b[0m\u001b[1;33m\u001b[0m\u001b[0m\n\u001b[0m\u001b[0;32m      5\u001b[0m \u001b[1;33m\u001b[0m\u001b[0m\n\u001b[0;32m      6\u001b[0m \u001b[1;33m\u001b[0m\u001b[0m\n",
      "\u001b[1;31mTypeError\u001b[0m: 'list' object is not callable"
     ]
    }
   ],
   "source": [
    "print(result)\n",
    "print(name)\n",
    "zipped = zip(result, name)\n",
    "list(zipped)\n",
    "\n",
    "  \n",
    "          \n"
   ]
  },
  {
   "cell_type": "code",
   "execution_count": 144,
   "metadata": {},
   "outputs": [
    {
     "name": "stdout",
     "output_type": "stream",
     "text": [
      "  the chair is on left side of image\n",
      "  the dining table is on center side of image\n",
      "  the chair is on right side of image\n",
      "  the tv is on right side of image\n"
     ]
    }
   ],
   "source": [
    "dictOfElems = dict()\n",
    "counter1 = 0\n",
    "l = []\n",
    "for b,n in zip(result,name):\n",
    "    if b >= [0.0] and  b <= [4.0]:\n",
    "        left_obj = \"  the \" + n + \" is on left side of image\" \n",
    "        print(left_obj)\n",
    "           \n",
    "    elif b > [4.0]  and b <= [8.0]:\n",
    "        cen_obj = \"  the \" + n + \" is on center side of image\"\n",
    "        print(cen_obj)\n",
    "           \n",
    "    elif b > [8.0]  and b <= [12.0]: \n",
    "        right_obj = \"  the \" + n + \" is on right side of image\"\n",
    "        print(right_obj)\n",
    "           \n",
    "    else:\n",
    "        print(' ') "
   ]
  },
  {
   "cell_type": "code",
   "execution_count": null,
   "metadata": {},
   "outputs": [],
   "source": []
  },
  {
   "cell_type": "code",
   "execution_count": 146,
   "metadata": {},
   "outputs": [
    {
     "name": "stdout",
     "output_type": "stream",
     "text": [
      "['chair']\n",
      "['dining table']\n",
      "['chair', 'tv']\n",
      "2\n",
      "1\n",
      "1\n"
     ]
    }
   ],
   "source": [
    "#here putting objects that are in right, left and center, into seperate list i.e left_item_list)  and from this further will count the deplicate object in each  list i.e 2 person, 3 car\n",
    "left_item_list = []\n",
    "center_item_list =[]\n",
    "right_item_list =[]\n",
    "\n",
    "for b,n in zip(result,name):\n",
    "    if b >= [0.0] and  b <= [4.0]:\n",
    "        left_item_list.append(n) \n",
    "        #left_item_boundary_boxes.append(b)\n",
    "    elif b > [4.0]  and b <= [8.0]:  \n",
    "        center_item_list.append(n)\n",
    "    elif b > [8.0]  and b <= [12.0]:\n",
    "         right_item_list.append(n)\n",
    "print(left_item_list)  \n",
    "\n",
    "print(center_item_list)   ##changing here \n",
    "\n",
    "print(right_item_list)\n",
    "print(len(right_item_list)) \n",
    "print(len(left_item_list))\n",
    "print(len(center_item_list))\n"
   ]
  },
  {
   "cell_type": "code",
   "execution_count": null,
   "metadata": {},
   "outputs": [],
   "source": []
  },
  {
   "cell_type": "code",
   "execution_count": 147,
   "metadata": {},
   "outputs": [
    {
     "name": "stdout",
     "output_type": "stream",
     "text": [
      "['chair', 'dining table', 'chair', 'tv']\n",
      "['2 are chair, ']\n"
     ]
    }
   ],
   "source": [
    "# this cell is basically for counting deplicate object in complete image \n",
    "print(name) \n",
    "\n",
    "def getDuplicatesWithCount(name):\n",
    "    ''' Get frequency count of duplicate elements in the given list '''\n",
    "    dictOfElems = dict()\n",
    "    # Iterate over each element in list\n",
    "    for elem in name:\n",
    "        # If element exists in dict then increment its value else add it in dict\n",
    "        if elem in dictOfElems:\n",
    "            dictOfElems[elem] += 1\n",
    "        else:\n",
    "            dictOfElems[elem] = 1    \n",
    " \n",
    "    # Filter key-value pairs in dictionary. Keep pairs whose value is greater than 1 i.e. only duplicate elements from list.\n",
    "    dictOfElems = { key:value for key, value in dictOfElems.items() if value > 1}\n",
    "    # Returns a dict of duplicate elements and thier frequency count\n",
    "    return dictOfElems\n",
    "\n",
    "# Get a dictionary containing duplicate elements in list and their frequency count\n",
    "dictOfElems = getDuplicatesWithCount(name)     \n",
    "total_obj_count = [] \n",
    "for key, value in dictOfElems.items():\n",
    "          co_item = key , ' :: ', value\n",
    "          total_obj_count.append(str(value) + ' are ' + str(key) + ', ')\n",
    "    \n",
    "print(total_obj_count)\n",
    "        "
   ]
  },
  {
   "cell_type": "code",
   "execution_count": null,
   "metadata": {},
   "outputs": [],
   "source": []
  },
  {
   "cell_type": "code",
   "execution_count": 148,
   "metadata": {},
   "outputs": [
    {
     "name": "stdout",
     "output_type": "stream",
     "text": [
      "['1 chair']\n"
     ]
    }
   ],
   "source": [
    "#this is for counting deplicate object ob left side of image \n",
    "def getDuplicatesWithCount(left_item_list):\n",
    "    ''' Get frequency count of duplicate elements in the given list '''\n",
    "    dictOfElems = dict()\n",
    "    # Iterate over each element in list\n",
    "    for elem in left_item_list:\n",
    "        # If element exists in dict then increment its value else add it in dict\n",
    "        if elem in dictOfElems:\n",
    "            dictOfElems[elem] += 1\n",
    "        else:\n",
    "            dictOfElems[elem] = 1    \n",
    " \n",
    "    # Filter key-value pairs in dictionary. Keep pairs whose value is greater than 1 i.e. only duplicate elements from list.\n",
    "    dictOfElems = { key:value for key, value in dictOfElems.items() if value >= 1}\n",
    "    # Returns a dict of duplicate elements and thier frequency count\n",
    "    return dictOfElems\n",
    "\n",
    "# Get a dictionary containing duplicate elements in list and their frequency count\n",
    "dictOfElems = getDuplicatesWithCount(left_item_list)     \n",
    "left_count_obj = [] \n",
    "for key, value in dictOfElems.items():\n",
    "          co_item = key , ' :: ', value\n",
    "          left_count_obj.append(str(value) + ' ' + str(key) + '')\n",
    "          \n",
    "          print(left_count_obj)"
   ]
  },
  {
   "cell_type": "code",
   "execution_count": 149,
   "metadata": {},
   "outputs": [
    {
     "name": "stdout",
     "output_type": "stream",
     "text": [
      "['1 dining table']\n"
     ]
    }
   ],
   "source": [
    "#this is for counting deplicate object ob center side of image \n",
    "def getDuplicatesWithCount(center_item_list):\n",
    "    ''' Get frequency count of duplicate elements in the given list '''\n",
    "    dictOfElems = dict()\n",
    "    # Iterate over each element in list\n",
    "    for elem in center_item_list:\n",
    "        # If element exists in dict then increment its value else add it in dict\n",
    "        if elem in dictOfElems:\n",
    "            dictOfElems[elem] += 1\n",
    "        else:\n",
    "            dictOfElems[elem] = 1    \n",
    " \n",
    "    # Filter key-value pairs in dictionary. Keep pairs whose value is greater than 1 i.e. only duplicate elements from list.\n",
    "    dictOfElems = { key:value for key, value in dictOfElems.items() if value >= 1}\n",
    "    # Returns a dict of duplicate elements and thier frequency count\n",
    "    return dictOfElems\n",
    "\n",
    "# Get a dictionary containing duplicate elements in list and their frequency count\n",
    "dictOfElems = getDuplicatesWithCount(center_item_list)     \n",
    "center_count_obj = [] \n",
    "for key, value in dictOfElems.items():\n",
    "          co_item = key , ' :: ', value\n",
    "          center_count_obj.append(str(value) + ' ' + str(key) + '')\n",
    "            \n",
    "          print(center_count_obj)"
   ]
  },
  {
   "cell_type": "code",
   "execution_count": 150,
   "metadata": {
    "scrolled": true
   },
   "outputs": [
    {
     "name": "stdout",
     "output_type": "stream",
     "text": [
      "['1 chair']\n",
      "['1 chair', '1 tv']\n"
     ]
    }
   ],
   "source": [
    "#this is for counting deplicate object ob right side of image \n",
    "def getDuplicatesWithCount(right_item_list):\n",
    "    ''' Get frequency count of duplicate elements in the given list '''\n",
    "    dictOfElems = dict()\n",
    "    # Iterate over each element in list\n",
    "    for elem in right_item_list:\n",
    "        # If element exists in dict then increment its value else add it in dict\n",
    "        if elem in dictOfElems:\n",
    "            dictOfElems[elem] += 1\n",
    "        else:\n",
    "            dictOfElems[elem] = 1    \n",
    " \n",
    "    # Filter key-value pairs in dictionary. Keep pairs whose value is greater than 1 i.e. only duplicate elements from list.\n",
    "    dictOfElems = { key:value for key, value in dictOfElems.items() if value >= 1}\n",
    "    # Returns a dict of duplicate elements and thier frequency count\n",
    "    return dictOfElems\n",
    "\n",
    "# Get a dictionary containing duplicate elements in list and their frequency count\n",
    "dictOfElems = getDuplicatesWithCount(right_item_list)     \n",
    "right_count_obj = [] \n",
    "for key, value in dictOfElems.items():\n",
    "          co_item = key , ' :: ', value\n",
    "          right_count_obj.append(str(value) + ' ' + str(key) + '')\n",
    "        \n",
    "          print(right_count_obj)\n",
    "         "
   ]
  },
  {
   "cell_type": "code",
   "execution_count": 152,
   "metadata": {},
   "outputs": [
    {
     "name": "stdout",
     "output_type": "stream",
     "text": [
      " there are almost 4  objects identified in given image, among them 2 are chair,  moreover 1 chair at left side and, 1 dining table are at center and  1 chair1 tv are at right side of image and realatable relationships between identified objects might be that \n",
      "chair beside chair\n",
      "chair beside dining table\n",
      "chair in front of tv\n"
     ]
    }
   ],
   "source": [
    "\n",
    "if var_len == 0:\n",
    "    a = 'there is no '\n",
    "    \n",
    "elif var_len > 0:\n",
    "     a = 'there are almost ' + str(var_len) + ' '\n",
    "     \n",
    "\n",
    "des =  \" \" + str(a) + \" objects identified in given image, among them \"  + '' .join(total_obj_count) + \" moreover \" + '' .join(left_count_obj)  + \" at left side and, \" + ''.join(center_count_obj) + ' are at center and  ' + '' .join(right_count_obj) + \" are at right side of image and realatable relationships between identified objects might be that \" \n",
    "print(des)\n",
    "for i,n in zip(midd_point_list,name):\n",
    "    rec1 = i\n",
    "    #print(rec1)\n",
    "    for j, m in zip(coordinates_list,name):\n",
    "        if(i==j):\n",
    "            rec2 =! j\n",
    "        else:\n",
    "            rec2 = j\n",
    "            \n",
    "            p = n + \" and \" + m \n",
    "            p2 = n \n",
    "            p3 = m\n",
    "            #print(p)\n",
    "            x = Solution()    \n",
    "            x.isRectangleOverlap(rec1,rec2)   "
   ]
  },
  {
   "cell_type": "code",
   "execution_count": 37,
   "metadata": {},
   "outputs": [
    {
     "name": "stdout",
     "output_type": "stream",
     "text": [
      "there are almost 11 objects identified in given image\n"
     ]
    }
   ],
   "source": []
  },
  {
   "cell_type": "code",
   "execution_count": null,
   "metadata": {
    "scrolled": true
   },
   "outputs": [],
   "source": [
    "\n",
    "    \n",
    "    \n",
    "   "
   ]
  },
  {
   "cell_type": "code",
   "execution_count": null,
   "metadata": {},
   "outputs": [],
   "source": [
    "\n"
   ]
  },
  {
   "cell_type": "code",
   "execution_count": null,
   "metadata": {},
   "outputs": [],
   "source": []
  },
  {
   "cell_type": "code",
   "execution_count": null,
   "metadata": {},
   "outputs": [],
   "source": [
    "\n",
    "      "
   ]
  },
  {
   "cell_type": "code",
   "execution_count": 83,
   "metadata": {},
   "outputs": [],
   "source": [
    "       "
   ]
  },
  {
   "cell_type": "code",
   "execution_count": null,
   "metadata": {},
   "outputs": [],
   "source": []
  },
  {
   "cell_type": "markdown",
   "metadata": {
    "colab": {
     "autoexec": {
      "startup": false,
      "wait_interval": 0
     }
    },
    "colab_type": "code",
    "id": "3a5wMHN8WKMh"
   },
   "source": [
    "\n",
    "  "
   ]
  },
  {
   "cell_type": "code",
   "execution_count": null,
   "metadata": {
    "colab": {
     "autoexec": {
      "startup": false,
      "wait_interval": 0
     }
    },
    "colab_type": "code",
    "id": "LQSEnEsPWKMj",
    "scrolled": false
   },
   "outputs": [],
   "source": []
  },
  {
   "cell_type": "code",
   "execution_count": null,
   "metadata": {},
   "outputs": [],
   "source": []
  }
 ],
 "metadata": {
  "colab": {
   "default_view": {},
   "name": "object_detection_tutorial.ipynb?workspaceId=ronnyvotel:python_inference::citc",
   "provenance": [],
   "version": "0.3.2",
   "views": {}
  },
  "kernelspec": {
   "display_name": "Python 3",
   "language": "python",
   "name": "python3"
  },
  "language_info": {
   "codemirror_mode": {
    "name": "ipython",
    "version": 3
   },
   "file_extension": ".py",
   "mimetype": "text/x-python",
   "name": "python",
   "nbconvert_exporter": "python",
   "pygments_lexer": "ipython3",
   "version": "3.6.10"
  }
 },
 "nbformat": 4,
 "nbformat_minor": 1
}
