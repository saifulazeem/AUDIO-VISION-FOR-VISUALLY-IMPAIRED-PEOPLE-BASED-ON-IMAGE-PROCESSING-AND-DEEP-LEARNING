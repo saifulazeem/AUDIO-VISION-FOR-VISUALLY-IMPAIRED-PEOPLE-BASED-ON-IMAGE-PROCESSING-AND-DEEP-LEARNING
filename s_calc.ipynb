{
 "cells": [
  {
   "cell_type": "raw",
   "metadata": {},
   "source": [
    "2.\tModify the classes created in the above task under as follows:\n",
    "Create a module name basic.py having the class name basic_calc  with all the attributes and methods defined before.\n",
    "Now import the basic.py module in your program and do the inheritance step defined before i.e.\n",
    "Create another class inherited from basic_calc named s_calc which should have the following additional methods;\n",
    "Factorial, x_power_y, log, ln etc \n"
   ]
  },
  {
   "cell_type": "code",
   "execution_count": 7,
   "metadata": {},
   "outputs": [
    {
     "name": "stdout",
     "output_type": "stream",
     "text": [
      "Factorial is :  6\n",
      "Power is :  729\n",
      "Log is :  1.791759469228055\n",
      "Natural Log is :  1.791759469228055\n",
      "Sin of X is :  -0.27941549819892586\n",
      "Cos of X is :  0.960170286650366\n",
      "Tan of X is :  -0.29100619138474915\n",
      "SUM is :  6\n",
      "Subtraction is :  0\n",
      "Multiplication is :  9\n",
      "Division is :  1.0\n"
     ]
    }
   ],
   "source": [
    "from basicc import basic_calc\n",
    "\n",
    "\n",
    "class s_calc(basic_calc): \n",
    "    def __init__(self,x): \n",
    "        self.x = x \n",
    "        self.y = x\n",
    "    def fac(self):\n",
    "        i=self.x-1\n",
    "        while i>=1:\n",
    "            rslt=self.x*i\n",
    "            self.x=rslt\n",
    "            i -=1\n",
    "        return self.x\n",
    "\n",
    "    def power(self):\n",
    "    \n",
    "    \n",
    "        exp=self.y**self.x\n",
    "        return exp\n",
    "\n",
    "    def log(self):\n",
    "    \n",
    "        import math\n",
    "        res=math.log(self.x)\n",
    "        return res\n",
    "    def Ln(self):\n",
    "    \n",
    "        import numpy as np\n",
    "        res=np.log(self.x)\n",
    "        return res\n",
    "    def sin_fun(self):\n",
    "        \n",
    "        import math\n",
    "        res=math.sin(self.x)\n",
    "        return res\n",
    "    \n",
    "    def cos_fun(self):\n",
    "        \n",
    "        import math\n",
    "        res=math.cos(self.x)\n",
    "        return res\n",
    "    def tan_fun(self):\n",
    "        \n",
    "        import math\n",
    "        res=math.tan(self.x)\n",
    "        return res\n",
    "        \n",
    "\n",
    "my_s_calc=s_calc(3)\n",
    "\n",
    "print(\"Factorial is : \",my_s_calc.fac())\n",
    "print(\"Power is : \",my_s_calc.power())\n",
    "print(\"Log is : \",my_s_calc.log())\n",
    "print(\"Natural Log is : \",my_s_calc.Ln())\n",
    "\n",
    "print(\"Sin of X is : \",my_s_calc.sin_fun())\n",
    "print(\"Cos of X is : \",my_s_calc.cos_fun())\n",
    "print(\"Tan of X is : \",my_s_calc.tan_fun())\n",
    "\n",
    "\n",
    "my_calc=basic_calc(3,3)\n",
    "\n",
    "print(\"SUM is : \",my_calc.add())\n",
    "print(\"Subtraction is : \",my_calc.sub())\n",
    "print(\"Multiplication is : \",my_calc.mul())\n",
    "print(\"Division is : \",my_calc.div())\n",
    "\n"
   ]
  },
  {
   "cell_type": "code",
   "execution_count": null,
   "metadata": {},
   "outputs": [],
   "source": []
  }
 ],
 "metadata": {
  "kernelspec": {
   "display_name": "Python 3",
   "language": "python",
   "name": "python3"
  },
  "language_info": {
   "codemirror_mode": {
    "name": "ipython",
    "version": 3
   },
   "file_extension": ".py",
   "mimetype": "text/x-python",
   "name": "python",
   "nbconvert_exporter": "python",
   "pygments_lexer": "ipython3",
   "version": "3.7.6"
  }
 },
 "nbformat": 4,
 "nbformat_minor": 4
}
